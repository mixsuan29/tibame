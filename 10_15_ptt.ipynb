{
  "nbformat": 4,
  "nbformat_minor": 0,
  "metadata": {
    "colab": {
      "provenance": [],
      "authorship_tag": "ABX9TyPa+L450iA1A5KMyoPBbmaP",
      "include_colab_link": true
    },
    "kernelspec": {
      "name": "python3",
      "display_name": "Python 3"
    },
    "language_info": {
      "name": "python"
    }
  },
  "cells": [
    {
      "cell_type": "markdown",
      "metadata": {
        "id": "view-in-github",
        "colab_type": "text"
      },
      "source": [
        "<a href=\"https://colab.research.google.com/github/mixsuan29/tibame/blob/main/10_15_ptt.ipynb\" target=\"_parent\"><img src=\"https://colab.research.google.com/assets/colab-badge.svg\" alt=\"Open In Colab\"/></a>"
      ]
    },
    {
      "cell_type": "markdown",
      "source": [
        "HTTP代碼\n",
        "- 2: OK\n",
        "- 3: 轉址\n",
        "- 4: 錯誤\n",
        "  - 404 Not Found 網址打錯 或 網站不存在\n",
        "  - 403 Forbidden IP被拒絕 或 瀏覽器HttpHeaders錯誤\n"
      ],
      "metadata": {
        "id": "C7oGflbCaBso"
      }
    },
    {
      "cell_type": "code",
      "execution_count": 9,
      "metadata": {
        "colab": {
          "base_uri": "https://localhost:8080/"
        },
        "id": "Cv26V9uYZtLr",
        "outputId": "862f63d4-47bd-4879-fd21-e9a58e8c05ed"
      },
      "outputs": [
        {
          "output_type": "stream",
          "name": "stdout",
          "text": [
            "<!DOCTYPE html>\n",
            "<html>\n",
            "<head>\n",
            "<meta charset=\"utf-8\"/>\n",
            "<meta content=\"width=device-width, initial-scale=1\" name=\"viewport\"/>\n",
            "<title>[正妹] 崔妍秀 - 看板 Beauty - 批踢踢實業坊</title>\n",
            "<meta content=\"all\" name=\"robots\"/>\n",
            "<meta content=\"Ptt BBS 批踢踢\" name=\"keywords\"/>\n",
            "<meta content=\"https://i.imgur.com/e0SQaXP.jpeg\n",
            "https://i.imgur.com/oyBRcCZ.jpeg\n",
            "https://i.imgur.com/musgUTm.jpeg\n",
            "https://i.imgur.com/8GGDzZr.jpeg\n",
            "https://i.imgur.com/a4z6fpE.jpeg\n",
            "\" name=\"description\"/>\n",
            "<meta content=\"Ptt 批踢踢實業坊\" property=\"og:site_name\"/>\n",
            "<meta content=\"[正妹] 崔妍秀\" property=\"og:title\"/>\n",
            "<meta content=\"https://i.imgur.com/e0SQaXP.jpeg\n",
            "https://i.imgur.com/oyBRcCZ.jpeg\n",
            "https://i.imgur.com/musgUTm.jpeg\n",
            "https://i.imgur.com/8GGDzZr.jpeg\n",
            "https://i.imgur.com/a4z6fpE.jpeg\n",
            "\" property=\"og:description\"/>\n",
            "<link href=\"https://www.ptt.cc/bbs/Beauty/M.1728870210.A.8C7.html\" rel=\"canonical\"/>\n",
            "<link href=\"//images.ptt.cc/bbs/v2.27/bbs-common.css\" rel=\"stylesheet\" type=\"text/css\"/>\n",
            "<link href=\"//images.ptt.cc/bbs/v2.27/bbs-base.css\" media=\"screen\" rel=\"stylesheet\" type=\"text/css\"/>\n",
            "<link href=\"//images.ptt.cc/bbs/v2.27/bbs-custom.css\" rel=\"stylesheet\" type=\"text/css\"/>\n",
            "<link href=\"//images.ptt.cc/bbs/v2.27/pushstream.css\" media=\"screen\" rel=\"stylesheet\" type=\"text/css\"/>\n",
            "<link href=\"//images.ptt.cc/bbs/v2.27/bbs-print.css\" media=\"print\" rel=\"stylesheet\" type=\"text/css\"/>\n",
            "<script>\n",
            "(() => {\n",
            "    if (document.cookie.indexOf('over18=1') === -1) {\n",
            "\tlocation = 'https://www.ptt.cc/ask/over18?from=' + encodeURIComponent(location.pathname);\n",
            "    }\n",
            "})();\n",
            "</script>\n",
            "</head>\n",
            "<body>\n",
            "<div id=\"topbar-container\">\n",
            "<div class=\"bbs-content\" id=\"topbar\">\n",
            "<a href=\"/bbs/\" id=\"logo\">批踢踢實業坊</a>\n",
            "<span>›</span>\n",
            "<a class=\"board\" href=\"/bbs/Beauty/index.html\"><span class=\"board-label\">看板 </span>Beauty</a>\n",
            "<a class=\"right small\" href=\"/about.html\">關於我們</a>\n",
            "<a class=\"right small\" href=\"/contact.html\">聯絡資訊</a>\n",
            "</div>\n",
            "</div>\n",
            "<div id=\"navigation-container\">\n",
            "<div class=\"bbs-content\" id=\"navigation\">\n",
            "<a class=\"board\" href=\"/bbs/Beauty/index.html\">返回看板</a>\n",
            "<div class=\"bar\"></div>\n",
            "</div>\n",
            "</div>\n",
            "<div id=\"main-container\">\n",
            "<div class=\"bbs-screen bbs-content\" id=\"main-content\"><div class=\"article-metaline\"><span class=\"article-meta-tag\">作者</span><span class=\"article-meta-value\">ntpu79469208 (普通人)</span></div><div class=\"article-metaline-right\"><span class=\"article-meta-tag\">看板</span><span class=\"article-meta-value\">Beauty</span></div><div class=\"article-metaline\"><span class=\"article-meta-tag\">標題</span><span class=\"article-meta-value\">[正妹] 崔妍秀</span></div><div class=\"article-metaline\"><span class=\"article-meta-tag\">時間</span><span class=\"article-meta-value\">Mon Oct 14 09:43:27 2024</span></div>\n",
            "<a href=\"https://i.imgur.com/e0SQaXP.jpeg\" rel=\"noreferrer noopener nofollow\" target=\"_blank\">https://i.imgur.com/e0SQaXP.jpeg</a>\n",
            "<div class=\"richcontent\"><img alt=\"\" loading=\"lazy\" src=\"https://cache.ptt.cc/c/https/i.imgur.com/e0SQaXPl.jpeg?e=1729118009&amp;s=nTIJa1oFSXSvcBxfYLEKTw\"/></div><a href=\"https://i.imgur.com/oyBRcCZ.jpeg\" rel=\"noreferrer noopener nofollow\" target=\"_blank\">https://i.imgur.com/oyBRcCZ.jpeg</a>\n",
            "<div class=\"richcontent\"><img alt=\"\" loading=\"lazy\" src=\"https://cache.ptt.cc/c/https/i.imgur.com/oyBRcCZl.jpeg?e=1729166153&amp;s=uv7rIPEokEDoMDnIoG9Xwg\"/></div><a href=\"https://i.imgur.com/musgUTm.jpeg\" rel=\"noreferrer noopener nofollow\" target=\"_blank\">https://i.imgur.com/musgUTm.jpeg</a>\n",
            "<div class=\"richcontent\"><img alt=\"\" loading=\"lazy\" src=\"https://cache.ptt.cc/c/https/i.imgur.com/musgUTml.jpeg?e=1729149773&amp;s=9uX6la4GbaYCBpiOrCNe0Q\"/></div><a href=\"https://i.imgur.com/8GGDzZr.jpeg\" rel=\"noreferrer noopener nofollow\" target=\"_blank\">https://i.imgur.com/8GGDzZr.jpeg</a>\n",
            "<div class=\"richcontent\"><img alt=\"\" loading=\"lazy\" src=\"https://cache.ptt.cc/c/https/i.imgur.com/8GGDzZrl.jpeg?e=1729118129&amp;s=bQ-FAYslALVbEYmTpKuTTg\"/></div><a href=\"https://i.imgur.com/a4z6fpE.jpeg\" rel=\"noreferrer noopener nofollow\" target=\"_blank\">https://i.imgur.com/a4z6fpE.jpeg</a>\n",
            "<div class=\"richcontent\"><img alt=\"\" loading=\"lazy\" src=\"https://cache.ptt.cc/c/https/i.imgur.com/a4z6fpEl.jpeg?e=1729145783&amp;s=kQ2V-W9STER0l5TWxxKhDw\"/></div><a href=\"https://i.imgur.com/QFuthHR.jpeg\" rel=\"noreferrer noopener nofollow\" target=\"_blank\">https://i.imgur.com/QFuthHR.jpeg</a>\n",
            "<div class=\"richcontent\"><img alt=\"\" loading=\"lazy\" src=\"https://cache.ptt.cc/c/https/i.imgur.com/QFuthHRl.jpeg?e=1729126757&amp;s=SygW2f4bbPwvDQ3wc-gmdw\"/></div><a href=\"https://i.imgur.com/60BdhPo.jpeg\" rel=\"noreferrer noopener nofollow\" target=\"_blank\">https://i.imgur.com/60BdhPo.jpeg</a>\n",
            "<div class=\"richcontent\"><img alt=\"\" loading=\"lazy\" src=\"https://cache.ptt.cc/c/https/i.imgur.com/60BdhPol.jpeg?e=1729126158&amp;s=gFP8c4jekhM1nB90sWwbSQ\"/></div><a href=\"https://www.instagram.com/ysdp0715/\" rel=\"noreferrer noopener nofollow\" target=\"_blank\">https://www.instagram.com/ysdp0715/</a>\n",
            "\n",
            "--\n",
            "<span class=\"f2\">※ 發信站: 批踢踢實業坊(ptt.cc), 來自: 61.220.121.49 (臺灣)\n",
            "</span><span class=\"f2\">※ 文章網址: <a href=\"https://www.ptt.cc/bbs/Beauty/M.1728870210.A.8C7.html\" rel=\"noreferrer noopener nofollow\" target=\"_blank\">https://www.ptt.cc/bbs/Beauty/M.1728870210.A.8C7.html</a>\n",
            "</span></div>\n",
            "<div data-longpollurl=\"/v1/longpoll?id=71db70de875605c661a93f0f22606dabdbcdd450\" data-offset=\"491\" data-pollurl=\"/poll/Beauty/M.1728870210.A.8C7.html?cacheKey=2148-612084643&amp;offset=491&amp;offset-sig=3273b17134aa3513c9bbb3a8feb05020f0b6ea63\" id=\"article-polling\"></div>\n",
            "<div class=\"bbs-screen bbs-footer-message\">本網站已依台灣網站內容分級規定處理。此區域為限制級，未滿十八歲者不得瀏覽。</div>\n",
            "</div>\n",
            "<script async=\"\" src=\"https://www.googletagmanager.com/gtag/js?id=G-DZ6Y3BY9GW\"></script>\n",
            "<script>\n",
            "      window.dataLayer = window.dataLayer || [];\n",
            "      function gtag(){dataLayer.push(arguments);}\n",
            "      gtag('js', new Date());\n",
            "\n",
            "      gtag('config', 'G-DZ6Y3BY9GW');\n",
            "</script>\n",
            "<script>\n",
            "  (function(i,s,o,g,r,a,m){i['GoogleAnalyticsObject']=r;i[r]=i[r]||function(){\n",
            "  (i[r].q=i[r].q||[]).push(arguments)},i[r].l=1*new Date();a=s.createElement(o),\n",
            "  m=s.getElementsByTagName(o)[0];a.async=1;a.src=g;m.parentNode.insertBefore(a,m)\n",
            "  })(window,document,'script','https://www.google-analytics.com/analytics.js','ga');\n",
            "\n",
            "  ga('create', 'UA-32365737-1', {\n",
            "    cookieDomain: 'ptt.cc',\n",
            "    legacyCookieDomain: 'ptt.cc'\n",
            "  });\n",
            "  ga('send', 'pageview');\n",
            "</script>\n",
            "<script src=\"//ajax.googleapis.com/ajax/libs/jquery/2.1.1/jquery.min.js\"></script>\n",
            "<script src=\"//images.ptt.cc/bbs/v2.27/bbs.js\"></script>\n",
            "</body>\n",
            "</html>\n",
            "\n"
          ]
        }
      ],
      "source": [
        "import urllib.request as req\n",
        "import bs4 as bs\n",
        "\n",
        "\n",
        "url = \"https://www.ptt.cc/bbs/Beauty/M.1728870210.A.8C7.html\"\n",
        "r = req.Request(url)\n",
        "r.add_header(\"user-agent\", \"Mozilla/5.0 (Windows NT 10.0; Win64; x64) AppleWebKit/537.36 (KHTML, like Gecko) Chrome/129.0.0.0 Safari/537.36\")\n",
        "response = req.urlopen(r)\n",
        "html = bs.BeautifulSoup(response)\n",
        "\n",
        "print(html)"
      ]
    }
  ]
}