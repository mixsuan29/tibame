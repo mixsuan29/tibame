{
  "nbformat": 4,
  "nbformat_minor": 0,
  "metadata": {
    "colab": {
      "provenance": [],
      "authorship_tag": "ABX9TyOX9jUKzNW5KiBI6g3VCQfF",
      "include_colab_link": true
    },
    "kernelspec": {
      "name": "python3",
      "display_name": "Python 3"
    },
    "language_info": {
      "name": "python"
    }
  },
  "cells": [
    {
      "cell_type": "markdown",
      "metadata": {
        "id": "view-in-github",
        "colab_type": "text"
      },
      "source": [
        "<a href=\"https://colab.research.google.com/github/mixsuan29/tibame/blob/main/10_17_method.ipynb\" target=\"_parent\"><img src=\"https://colab.research.google.com/assets/colab-badge.svg\" alt=\"Open In Colab\"/></a>"
      ]
    },
    {
      "cell_type": "code",
      "execution_count": 5,
      "metadata": {
        "colab": {
          "base_uri": "https://localhost:8080/"
        },
        "id": "PHt7DUTxJsoB",
        "outputId": "eefe354d-a92e-4022-a4ef-7833fb8f78a2"
      },
      "outputs": [
        {
          "output_type": "stream",
          "name": "stdout",
          "text": [
            "hellohellohellohellohello\n",
            "AlloAlloAlloAlloAllo\n"
          ]
        }
      ],
      "source": [
        "str1 = 'hello' * 5\n",
        "str1.replace('he', 'A')\n",
        "\n",
        "str2 = 'hello' * 5\n",
        "str2 = str2.replace('he', 'A')\n",
        "\n",
        "print(str1)\n",
        "print(str2)"
      ]
    },
    {
      "cell_type": "code",
      "source": [
        "print(\"   aaa   \".split())\n",
        "print(\"abcde\".replace('abc', 'XYZ'))\n",
        "print('2024/10/17'.split('/'))\n",
        "print('::'.join(['10','17','2024']))"
      ],
      "metadata": {
        "colab": {
          "base_uri": "https://localhost:8080/"
        },
        "id": "i-S3LkpsMElT",
        "outputId": "4b8560c8-7304-404d-ef04-9dbc4c98f741"
      },
      "execution_count": 6,
      "outputs": [
        {
          "output_type": "stream",
          "name": "stdout",
          "text": [
            "['aaa']\n",
            "XYZde\n",
            "['2024', '10', '17']\n",
            "10::17::2024\n"
          ]
        }
      ]
    },
    {
      "cell_type": "markdown",
      "source": [
        "list專屬功能\n",
        "https://www.w3schools.com/python/python_lists_methods.asp"
      ],
      "metadata": {
        "id": "kLAwR_wXNtVt"
      }
    },
    {
      "cell_type": "code",
      "source": [
        "li = [5, 10, 15]\n",
        "b = li.append(20)\n",
        "print(li)\n",
        "print(b)"
      ],
      "metadata": {
        "colab": {
          "base_uri": "https://localhost:8080/"
        },
        "id": "y9VLBrjlOUF-",
        "outputId": "3058a75b-c527-40bd-e794-5e01d4bda219"
      },
      "execution_count": 8,
      "outputs": [
        {
          "output_type": "stream",
          "name": "stdout",
          "text": [
            "[5, 10, 15, 20]\n",
            "None\n"
          ]
        }
      ]
    },
    {
      "cell_type": "code",
      "source": [
        "# None\n",
        "print(print(30))"
      ],
      "metadata": {
        "colab": {
          "base_uri": "https://localhost:8080/"
        },
        "id": "Wcaax2hdQ7JX",
        "outputId": "1d786aa5-9af9-44fd-8fdb-f85b7775256b"
      },
      "execution_count": 9,
      "outputs": [
        {
          "output_type": "stream",
          "name": "stdout",
          "text": [
            "30\n",
            "None\n"
          ]
        }
      ]
    }
  ]
}