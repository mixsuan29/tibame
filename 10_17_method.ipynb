{
  "nbformat": 4,
  "nbformat_minor": 0,
  "metadata": {
    "colab": {
      "provenance": [],
      "authorship_tag": "ABX9TyOOhcDiptJqE9EpqvXG+iYp",
      "include_colab_link": true
    },
    "kernelspec": {
      "name": "python3",
      "display_name": "Python 3"
    },
    "language_info": {
      "name": "python"
    }
  },
  "cells": [
    {
      "cell_type": "markdown",
      "metadata": {
        "id": "view-in-github",
        "colab_type": "text"
      },
      "source": [
        "<a href=\"https://colab.research.google.com/github/mixsuan29/tibame/blob/main/10_17_method.ipynb\" target=\"_parent\"><img src=\"https://colab.research.google.com/assets/colab-badge.svg\" alt=\"Open In Colab\"/></a>"
      ]
    },
    {
      "cell_type": "code",
      "execution_count": 5,
      "metadata": {
        "colab": {
          "base_uri": "https://localhost:8080/"
        },
        "id": "PHt7DUTxJsoB",
        "outputId": "eefe354d-a92e-4022-a4ef-7833fb8f78a2"
      },
      "outputs": [
        {
          "output_type": "stream",
          "name": "stdout",
          "text": [
            "hellohellohellohellohello\n",
            "AlloAlloAlloAlloAllo\n"
          ]
        }
      ],
      "source": [
        "str1 = 'hello' * 5\n",
        "str1.replace('he', 'A')\n",
        "\n",
        "str2 = 'hello' * 5\n",
        "str2 = str2.replace('he', 'A')\n",
        "\n",
        "print(str1)\n",
        "print(str2)"
      ]
    },
    {
      "cell_type": "code",
      "source": [
        "print(\"   aaa   \".split())\n",
        "print(\"abcde\".replace('abc', 'XYZ'))\n",
        "print('2024/10/17'.split('/'))\n",
        "print('::'.join(['10','17','2024']))"
      ],
      "metadata": {
        "colab": {
          "base_uri": "https://localhost:8080/"
        },
        "id": "i-S3LkpsMElT",
        "outputId": "4b8560c8-7304-404d-ef04-9dbc4c98f741"
      },
      "execution_count": 6,
      "outputs": [
        {
          "output_type": "stream",
          "name": "stdout",
          "text": [
            "['aaa']\n",
            "XYZde\n",
            "['2024', '10', '17']\n",
            "10::17::2024\n"
          ]
        }
      ]
    }
  ]
}