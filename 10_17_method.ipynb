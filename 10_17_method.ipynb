{
  "nbformat": 4,
  "nbformat_minor": 0,
  "metadata": {
    "colab": {
      "provenance": [],
      "authorship_tag": "ABX9TyMvrrPV4r+j9Wt09J54ye7L",
      "include_colab_link": true
    },
    "kernelspec": {
      "name": "python3",
      "display_name": "Python 3"
    },
    "language_info": {
      "name": "python"
    }
  },
  "cells": [
    {
      "cell_type": "markdown",
      "metadata": {
        "id": "view-in-github",
        "colab_type": "text"
      },
      "source": [
        "<a href=\"https://colab.research.google.com/github/mixsuan29/tibame/blob/main/10_17_method.ipynb\" target=\"_parent\"><img src=\"https://colab.research.google.com/assets/colab-badge.svg\" alt=\"Open In Colab\"/></a>"
      ]
    },
    {
      "cell_type": "code",
      "execution_count": 5,
      "metadata": {
        "colab": {
          "base_uri": "https://localhost:8080/"
        },
        "id": "PHt7DUTxJsoB",
        "outputId": "eefe354d-a92e-4022-a4ef-7833fb8f78a2"
      },
      "outputs": [
        {
          "output_type": "stream",
          "name": "stdout",
          "text": [
            "hellohellohellohellohello\n",
            "AlloAlloAlloAlloAllo\n"
          ]
        }
      ],
      "source": [
        "str1 = 'hello' * 5\n",
        "str1.replace('he', 'A')\n",
        "\n",
        "str2 = 'hello' * 5\n",
        "str2 = str2.replace('he', 'A')\n",
        "\n",
        "print(str1)\n",
        "print(str2)"
      ]
    },
    {
      "cell_type": "code",
      "source": [
        "print(\"   aaa   \".split())\n",
        "print(\"abcde\".replace('abc', 'XYZ'))\n",
        "print('2024/10/17'.split('/'))\n",
        "print('::'.join(['10','17','2024']))"
      ],
      "metadata": {
        "colab": {
          "base_uri": "https://localhost:8080/"
        },
        "id": "i-S3LkpsMElT",
        "outputId": "4b8560c8-7304-404d-ef04-9dbc4c98f741"
      },
      "execution_count": 6,
      "outputs": [
        {
          "output_type": "stream",
          "name": "stdout",
          "text": [
            "['aaa']\n",
            "XYZde\n",
            "['2024', '10', '17']\n",
            "10::17::2024\n"
          ]
        }
      ]
    },
    {
      "cell_type": "markdown",
      "source": [
        "list專屬功能\n",
        "https://www.w3schools.com/python/python_lists_methods.asp\n",
        "\n",
        "以前跟你說: 沒有=值就不會改 -> list method直接改\n",
        "\n",
        "以前跟你說: 有些功能沒有回傳值(e.g. print) -> 任何功能都有回傳值, 只是有些功能回傳None\n",
        "\n",
        "!!! 基礎型態: 數字/字串/布林/無"
      ],
      "metadata": {
        "id": "kLAwR_wXNtVt"
      }
    },
    {
      "cell_type": "code",
      "source": [
        "li = [5, 10, 15]\n",
        "b = li.append(20)\n",
        "print(li)\n",
        "print(b)"
      ],
      "metadata": {
        "colab": {
          "base_uri": "https://localhost:8080/"
        },
        "id": "y9VLBrjlOUF-",
        "outputId": "3058a75b-c527-40bd-e794-5e01d4bda219"
      },
      "execution_count": 8,
      "outputs": [
        {
          "output_type": "stream",
          "name": "stdout",
          "text": [
            "[5, 10, 15, 20]\n",
            "None\n"
          ]
        }
      ]
    },
    {
      "cell_type": "code",
      "source": [
        "# None\n",
        "print(print(30))"
      ],
      "metadata": {
        "colab": {
          "base_uri": "https://localhost:8080/"
        },
        "id": "Wcaax2hdQ7JX",
        "outputId": "1d786aa5-9af9-44fd-8fdb-f85b7775256b"
      },
      "execution_count": 9,
      "outputs": [
        {
          "output_type": "stream",
          "name": "stdout",
          "text": [
            "30\n",
            "None\n"
          ]
        }
      ]
    },
    {
      "cell_type": "markdown",
      "source": [
        "你要會分兩種\n",
        "\n",
        "字串: b = s.replace 你會有一新一舊\n",
        "\n",
        "list: l.append() 自始自終你只有一個清單\n",
        "\n",
        "!!! None type is xx: 就是你把第二種當第一種用"
      ],
      "metadata": {
        "id": "n5E6yOc6S-s-"
      }
    },
    {
      "cell_type": "code",
      "source": [
        "# 常犯的錯誤: 100有進去, 但印出None\n",
        "l = [20, 30, 40]\n",
        "print(l.append(100))\n",
        "# 常犯的致命錯誤: l = None\n",
        "l = l.append(300)\n",
        "print(l[-1])"
      ],
      "metadata": {
        "colab": {
          "base_uri": "https://localhost:8080/",
          "height": 193
        },
        "id": "N3HeZxsZR0RS",
        "outputId": "89da39c2-e029-419c-a03e-d7a6831bfef1"
      },
      "execution_count": 10,
      "outputs": [
        {
          "output_type": "stream",
          "name": "stdout",
          "text": [
            "None\n"
          ]
        },
        {
          "output_type": "error",
          "ename": "TypeError",
          "evalue": "'NoneType' object is not subscriptable",
          "traceback": [
            "\u001b[0;31m---------------------------------------------------------------------------\u001b[0m",
            "\u001b[0;31mTypeError\u001b[0m                                 Traceback (most recent call last)",
            "\u001b[0;32m<ipython-input-10-1f31c499e235>\u001b[0m in \u001b[0;36m<cell line: 6>\u001b[0;34m()\u001b[0m\n\u001b[1;32m      4\u001b[0m \u001b[0;31m# 常犯的致命錯誤: l = None\u001b[0m\u001b[0;34m\u001b[0m\u001b[0;34m\u001b[0m\u001b[0m\n\u001b[1;32m      5\u001b[0m \u001b[0ml\u001b[0m \u001b[0;34m=\u001b[0m \u001b[0ml\u001b[0m\u001b[0;34m.\u001b[0m\u001b[0mappend\u001b[0m\u001b[0;34m(\u001b[0m\u001b[0;36m300\u001b[0m\u001b[0;34m)\u001b[0m\u001b[0;34m\u001b[0m\u001b[0;34m\u001b[0m\u001b[0m\n\u001b[0;32m----> 6\u001b[0;31m \u001b[0mprint\u001b[0m\u001b[0;34m(\u001b[0m\u001b[0ml\u001b[0m\u001b[0;34m[\u001b[0m\u001b[0;34m-\u001b[0m\u001b[0;36m1\u001b[0m\u001b[0;34m]\u001b[0m\u001b[0;34m)\u001b[0m\u001b[0;34m\u001b[0m\u001b[0;34m\u001b[0m\u001b[0m\n\u001b[0m",
            "\u001b[0;31mTypeError\u001b[0m: 'NoneType' object is not subscriptable"
          ]
        }
      ]
    },
    {
      "cell_type": "code",
      "source": [
        "# 正確\n",
        "l = [20, 30]\n",
        "l.append(100)\n",
        "print(l)"
      ],
      "metadata": {
        "colab": {
          "base_uri": "https://localhost:8080/"
        },
        "id": "4DCxv6t7S2Oe",
        "outputId": "5cb94845-05fa-43b0-8404-0c05aff026d6"
      },
      "execution_count": 11,
      "outputs": [
        {
          "output_type": "stream",
          "name": "stdout",
          "text": [
            "[20, 30, 100]\n"
          ]
        }
      ]
    }
  ]
}