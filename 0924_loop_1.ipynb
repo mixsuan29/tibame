{
  "nbformat": 4,
  "nbformat_minor": 0,
  "metadata": {
    "colab": {
      "provenance": [],
      "authorship_tag": "ABX9TyNzqJPWisXpOKzxhfL5O6xP",
      "include_colab_link": true
    },
    "kernelspec": {
      "name": "python3",
      "display_name": "Python 3"
    },
    "language_info": {
      "name": "python"
    }
  },
  "cells": [
    {
      "cell_type": "markdown",
      "metadata": {
        "id": "view-in-github",
        "colab_type": "text"
      },
      "source": [
        "<a href=\"https://colab.research.google.com/github/mixsuan29/tibame/blob/main/0924_loop_1.ipynb\" target=\"_parent\"><img src=\"https://colab.research.google.com/assets/colab-badge.svg\" alt=\"Open In Colab\"/></a>"
      ]
    },
    {
      "cell_type": "code",
      "execution_count": 4,
      "metadata": {
        "colab": {
          "base_uri": "https://localhost:8080/"
        },
        "id": "_pDk5NOtnC3J",
        "outputId": "734f4540-513d-4210-dedb-e2da42055104"
      },
      "outputs": [
        {
          "output_type": "stream",
          "name": "stdout",
          "text": [
            "估算面積: 3.14632\n"
          ]
        }
      ],
      "source": [
        "# 蒙地卡羅法\n",
        "import random\n",
        "\n",
        "total = 100000\n",
        "inarea = 0\n",
        "\n",
        "i = 0\n",
        "while i < total:\n",
        "  x = random.uniform(-1, 1)\n",
        "  y = random.uniform(-1, 1)\n",
        "  if x ** 2 + y **2 <= 1:\n",
        "    inarea = inarea + 1\n",
        "  i = i + 1\n",
        "\n",
        "reference = 4\n",
        "ratio = inarea / total\n",
        "print('估算面積:', ratio * reference)"
      ]
    },
    {
      "cell_type": "markdown",
      "source": [
        "迴圈(不是用次數): 條件自己寫"
      ],
      "metadata": {
        "id": "suBJZZH-8xbk"
      }
    },
    {
      "cell_type": "code",
      "source": [
        "import random\n",
        "\n",
        "trans = ['LOSE','EVEN','WIN']\n",
        "win, lose = 0, 0\n",
        "while win < 3:\n",
        "  # -1: L ; 0: E\n",
        "  result = random.randint(-1, 1)\n",
        "  print(trans[result + 1])\n",
        "  if result == 1:\n",
        "    win = win + 1\n",
        "  elif result == -1:\n",
        "    lose = lose + 1"
      ],
      "metadata": {
        "colab": {
          "base_uri": "https://localhost:8080/"
        },
        "id": "Fho5zlGJ85XG",
        "outputId": "69064a4d-210b-43ca-f95f-00ceed946047"
      },
      "execution_count": 7,
      "outputs": [
        {
          "output_type": "stream",
          "name": "stdout",
          "text": [
            "WIN\n",
            "EVEN\n",
            "WIN\n",
            "WIN\n"
          ]
        }
      ]
    },
    {
      "cell_type": "markdown",
      "source": [
        "##### 基礎型態\n",
        "```\n",
        "1. 數字\n",
        "2. 字串\n",
        "3. 布林(是否): True False\n",
        "4. 無\n",
        "```\n",
        "##### 布林\n",
        "```\n",
        "1. 不: if not a == 3\n",
        "2. 組合: and(而且) or(或者)\n",
        "```\n"
      ],
      "metadata": {
        "id": "FGCPIm10_BHd"
      }
    },
    {
      "cell_type": "code",
      "source": [
        "import random\n",
        "\n",
        "trans = ['LOSE','EVEN','WIN']\n",
        "win, lose = 0, 0\n",
        "while (win < 3) and (lose < 3):\n",
        "  # -1: L ; 0: E\n",
        "  result = random.randint(-1, 1)\n",
        "  print(trans[result + 1])\n",
        "  if result == 1:\n",
        "    win = win + 1\n",
        "  elif result == -1:\n",
        "    lose = lose + 1\n",
        "\n",
        "if win > lose:\n",
        "  print('我贏了')\n",
        "else:\n",
        "  print('我輸了')"
      ],
      "metadata": {
        "colab": {
          "base_uri": "https://localhost:8080/"
        },
        "id": "w91oxnvn_aRa",
        "outputId": "7dae1035-b1d4-4c3e-9092-11c880020e7e"
      },
      "execution_count": 15,
      "outputs": [
        {
          "output_type": "stream",
          "name": "stdout",
          "text": [
            "WIN\n",
            "LOSE\n",
            "WIN\n",
            "WIN\n",
            "我贏了\n"
          ]
        }
      ]
    },
    {
      "cell_type": "code",
      "source": [
        "'a' in 'apple'"
      ],
      "metadata": {
        "colab": {
          "base_uri": "https://localhost:8080/"
        },
        "id": "M0zmq2MACN6y",
        "outputId": "7c0118ee-30b3-45e0-c77f-14e10e4db87b"
      },
      "execution_count": 9,
      "outputs": [
        {
          "output_type": "execute_result",
          "data": {
            "text/plain": [
              "True"
            ]
          },
          "metadata": {},
          "execution_count": 9
        }
      ]
    },
    {
      "cell_type": "code",
      "source": [
        "5 > 2 and ('a' in 'apple' or 4  == 4)"
      ],
      "metadata": {
        "colab": {
          "base_uri": "https://localhost:8080/"
        },
        "id": "supnP-eJCY5G",
        "outputId": "f204e29f-6e9e-499b-fb35-a8fe01285ac5"
      },
      "execution_count": 14,
      "outputs": [
        {
          "output_type": "execute_result",
          "data": {
            "text/plain": [
              "True"
            ]
          },
          "metadata": {},
          "execution_count": 14
        }
      ]
    },
    {
      "cell_type": "markdown",
      "source": [
        "while True: 無限次\n",
        "while False: 0次\n",
        "\n",
        "```\n",
        "while True + break\n",
        "條件設置比較自由\n",
        "收尾工作比較自由\n",
        "結束有時候比較好說中文\n",
        "```"
      ],
      "metadata": {
        "id": "CNd7u_hzHohD"
      }
    },
    {
      "cell_type": "code",
      "source": [
        "import random\n",
        "\n",
        "trans = ['LOSE','EVEN','WIN']\n",
        "win, lose = 0, 0\n",
        "while True:\n",
        "  # -1: L ; 0: E\n",
        "  result = random.randint(-1, 1)\n",
        "  print(trans[result + 1])\n",
        "  if result == 1:\n",
        "    win = win + 1\n",
        "  elif result == -1:\n",
        "    lose = lose + 1\n",
        "\n",
        "  if win == 3:\n",
        "    print('我贏了')\n",
        "    break\n",
        "  elif lose == 3:\n",
        "    print('我輸了')\n",
        "    break"
      ],
      "metadata": {
        "colab": {
          "base_uri": "https://localhost:8080/"
        },
        "id": "YfNo4NdDH9le",
        "outputId": "bbf02533-39e8-4938-bf1a-aca1fbb7ab3f"
      },
      "execution_count": 16,
      "outputs": [
        {
          "output_type": "stream",
          "name": "stdout",
          "text": [
            "WIN\n",
            "LOSE\n",
            "EVEN\n",
            "EVEN\n",
            "WIN\n",
            "WIN\n",
            "我贏了\n"
          ]
        }
      ]
    },
    {
      "cell_type": "code",
      "source": [
        "# a = 3 b = 5, 0.6(停)\n",
        "a, b = 2, 5\n",
        "result = '0.'\n",
        "\n",
        "i = 0\n",
        "while i < 10:\n",
        "  # 2 -> 20\n",
        "  a10 = a * 10\n",
        "  # 20 // 7\n",
        "  result = result + str(a10 // b)\n",
        "  print(result)\n",
        "  # 20 % 7\n",
        "  a = a10 % b\n",
        "\n",
        "  if a == 0:\n",
        "    break;\n",
        "\n",
        "  i = i + 1"
      ],
      "metadata": {
        "colab": {
          "base_uri": "https://localhost:8080/"
        },
        "id": "IDF-qTC_KNB_",
        "outputId": "732e9bbe-9d72-4385-96f7-d9def205d2e4"
      },
      "execution_count": 22,
      "outputs": [
        {
          "output_type": "stream",
          "name": "stdout",
          "text": [
            "0.4\n"
          ]
        }
      ]
    }
  ]
}