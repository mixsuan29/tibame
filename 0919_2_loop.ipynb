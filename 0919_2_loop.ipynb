{
  "nbformat": 4,
  "nbformat_minor": 0,
  "metadata": {
    "colab": {
      "provenance": [],
      "authorship_tag": "ABX9TyPtMDG/fD8XKD8zWj1lhg8u",
      "include_colab_link": true
    },
    "kernelspec": {
      "name": "python3",
      "display_name": "Python 3"
    },
    "language_info": {
      "name": "python"
    }
  },
  "cells": [
    {
      "cell_type": "markdown",
      "metadata": {
        "id": "view-in-github",
        "colab_type": "text"
      },
      "source": [
        "<a href=\"https://colab.research.google.com/github/mixsuan29/tibame/blob/main/0919_2_loop.ipynb\" target=\"_parent\"><img src=\"https://colab.research.google.com/assets/colab-badge.svg\" alt=\"Open In Colab\"/></a>"
      ]
    },
    {
      "cell_type": "code",
      "execution_count": null,
      "metadata": {
        "colab": {
          "base_uri": "https://localhost:8080/"
        },
        "id": "SnAWUJU0PU6T",
        "outputId": "1fc51608-d257-43d6-b748-b7c7da0f85b1"
      },
      "outputs": [
        {
          "output_type": "stream",
          "name": "stdout",
          "text": [
            "1\n",
            "3\n",
            "6\n",
            "10\n",
            "15\n",
            "21\n",
            "28\n",
            "36\n",
            "45\n",
            "55\n",
            "55\n"
          ]
        }
      ],
      "source": [
        "total = 0\n",
        "i = 0\n",
        "while i < 10:\n",
        "  total = total + ( i + 1 )\n",
        "  print(total)\n",
        "  i = i + 1\n",
        "print(total)"
      ]
    },
    {
      "cell_type": "code",
      "source": [
        "a, b = 2, 7\n",
        "result = '0.'\n",
        "i = 0\n",
        "while i < 10:\n",
        "\n",
        "  #2 -> 20\n",
        "  a10 = a * 10\n",
        "  # 20 // 7\n",
        "  result = result + str(a10 // b)\n",
        "  #20 % 7\n",
        "  a = a10 % b\n",
        "  print(result);\n",
        "\n",
        "  i = i + 1\n"
      ],
      "metadata": {
        "colab": {
          "base_uri": "https://localhost:8080/"
        },
        "id": "9VGYaU7hRZZx",
        "outputId": "b17835d9-db67-4df0-9403-0269a90653cc"
      },
      "execution_count": null,
      "outputs": [
        {
          "output_type": "stream",
          "name": "stdout",
          "text": [
            "0.2\n",
            "0.28\n",
            "0.285\n",
            "0.2857\n",
            "0.28571\n",
            "0.285714\n",
            "0.2857142\n",
            "0.28571428\n",
            "0.285714285\n",
            "0.2857142857\n"
          ]
        }
      ]
    },
    {
      "cell_type": "code",
      "source": [
        "ord('a')\n",
        "chr(97)"
      ],
      "metadata": {
        "colab": {
          "base_uri": "https://localhost:8080/",
          "height": 35
        },
        "id": "YPW0MxvmYQsY",
        "outputId": "4d6920a2-0b48-4f01-e4e5-bd05fd60a776"
      },
      "execution_count": null,
      "outputs": [
        {
          "output_type": "execute_result",
          "data": {
            "text/plain": [
              "'a'"
            ],
            "application/vnd.google.colaboratory.intrinsic+json": {
              "type": "string"
            }
          },
          "metadata": {},
          "execution_count": 51
        }
      ]
    },
    {
      "cell_type": "code",
      "source": [
        "# ASCII\n",
        "s = '我很愛吃Apple, . '\n",
        "countL = 0\n",
        "countS = 0\n",
        "\n",
        "i = 0\n",
        "while i < len(s):\n",
        "  ss = ord(s[i])\n",
        "  if ss >= ord('A') and ss <= ord('Z'):\n",
        "    countL = countL + 1\n",
        "  elif ss >= ord('a') and ss <= ord('z'):\n",
        "    countS = countS + 1\n",
        "  else:\n",
        "    print(s[i], '不是英文')\n",
        "  i = i + 1\n",
        "\n",
        "print('countL:', countL)\n",
        "print('countS:', countS)"
      ],
      "metadata": {
        "colab": {
          "base_uri": "https://localhost:8080/"
        },
        "id": "4suJPAd1WMdc",
        "outputId": "ddbc0146-a99a-4eec-b53e-16742ba765d5"
      },
      "execution_count": null,
      "outputs": [
        {
          "output_type": "stream",
          "name": "stdout",
          "text": [
            "我 不是英文\n",
            "很 不是英文\n",
            "愛 不是英文\n",
            "吃 不是英文\n",
            ", 不是英文\n",
            "  不是英文\n",
            ". 不是英文\n",
            "  不是英文\n",
            "countL: 1\n",
            "countS: 4\n"
          ]
        }
      ]
    },
    {
      "cell_type": "code",
      "source": [
        "# 凱薩密碼\n",
        "s = 'applez'\n",
        "p = 2 #crrngb\n",
        "result = ''\n",
        "\n",
        "i = 0\n",
        "while i < len(s):\n",
        "  #轉成編碼ord -> 97-122\n",
        "  c = ord(s[i]) - ord('a')\n",
        "  #往後位移p個, 循環回去, 換成數字 z -> b\n",
        "  c = (c + p) % 26\n",
        "  #回到97-122\n",
        "  c = c + ord('a')\n",
        "  #把轉好的數字再轉回英文\n",
        "  result = result + chr(c)\n",
        "  i = i + 1\n",
        "\n",
        "print(result)"
      ],
      "metadata": {
        "id": "6n1sR2uJdRfz",
        "colab": {
          "base_uri": "https://localhost:8080/"
        },
        "outputId": "ebc541ec-a008-4807-f44b-40178d0bee85"
      },
      "execution_count": 12,
      "outputs": [
        {
          "output_type": "stream",
          "name": "stdout",
          "text": [
            "crrngb\n"
          ]
        }
      ]
    }
  ]
}