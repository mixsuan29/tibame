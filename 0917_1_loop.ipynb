{
  "nbformat": 4,
  "nbformat_minor": 0,
  "metadata": {
    "colab": {
      "provenance": [],
      "authorship_tag": "ABX9TyOkb79B/SuGPPBOdRyrKMn0",
      "include_colab_link": true
    },
    "kernelspec": {
      "name": "python3",
      "display_name": "Python 3"
    },
    "language_info": {
      "name": "python"
    }
  },
  "cells": [
    {
      "cell_type": "markdown",
      "metadata": {
        "id": "view-in-github",
        "colab_type": "text"
      },
      "source": [
        "<a href=\"https://colab.research.google.com/github/mixsuan29/tibame/blob/main/0917_1_loop.ipynb\" target=\"_parent\"><img src=\"https://colab.research.google.com/assets/colab-badge.svg\" alt=\"Open In Colab\"/></a>"
      ]
    },
    {
      "cell_type": "code",
      "execution_count": 2,
      "metadata": {
        "colab": {
          "base_uri": "https://localhost:8080/"
        },
        "id": "UYRrw97z3DwY",
        "outputId": "4dc5cf59-8bbc-4ab1-a2d8-68615f75c2f6"
      },
      "outputs": [
        {
          "output_type": "stream",
          "name": "stdout",
          "text": [
            "1 50 5 70\n",
            "2 49 8 62\n",
            "3 48 11 54\n",
            "4 47 14 46\n",
            "5 46 17 38\n",
            "6 45 20 30\n",
            "7 44 23 22\n",
            "8 43 26 14\n",
            "9 42 29 6\n",
            "10 41 32 -2\n"
          ]
        }
      ],
      "source": [
        "i = 0\n",
        "while i < 10:\n",
        "  # i 0...9\n",
        "  print(i+1,\n",
        "     50-i,\n",
        "     3*i+5,\n",
        "     70-8*i)\n",
        "  i = i + 1"
      ]
    }
  ]
}