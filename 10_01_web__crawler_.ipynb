{
  "nbformat": 4,
  "nbformat_minor": 0,
  "metadata": {
    "colab": {
      "provenance": [],
      "authorship_tag": "ABX9TyPlUS4omEy0w+rvuAsrdFh1",
      "include_colab_link": true
    },
    "kernelspec": {
      "name": "python3",
      "display_name": "Python 3"
    },
    "language_info": {
      "name": "python"
    }
  },
  "cells": [
    {
      "cell_type": "markdown",
      "metadata": {
        "id": "view-in-github",
        "colab_type": "text"
      },
      "source": [
        "<a href=\"https://colab.research.google.com/github/mixsuan29/tibame/blob/main/10_01_web__crawler_.ipynb\" target=\"_parent\"><img src=\"https://colab.research.google.com/assets/colab-badge.svg\" alt=\"Open In Colab\"/></a>"
      ]
    },
    {
      "cell_type": "markdown",
      "source": [
        "##### 爬蟲事前準備\n",
        "1. 右鍵打開原始碼\n",
        "2. a. 如果你要的東西在原始碼: 網址列\n",
        "3. b. 不: F12找到隱藏網址"
      ],
      "metadata": {
        "id": "Dd6_scqcR8Uq"
      }
    },
    {
      "cell_type": "code",
      "source": [
        "# 學生清單: [學生(字典), 學生(字典), 學生]\n",
        "# 字典(無序群集)的每一組都由key(有形態:數字/字串):value所構成\n",
        "student = {\n",
        "    \"age\":25,\n",
        "    \"name\":\"Elwing\",\n",
        "}\n",
        "print(student)\n",
        "# 查詢 key是有型態的, 別忘了雙引號\n",
        "print(student[\"age\"])\n",
        "# 口訣 age = 25\n",
        "# height = 175\n",
        "student[\"height\"] = 175\n",
        "print(student)\n",
        "# height = 175 + 5\n",
        "student[\"height\"] = student[\"height\"] + 5\n",
        "print(student)"
      ],
      "metadata": {
        "colab": {
          "base_uri": "https://localhost:8080/"
        },
        "id": "Uh1J_mzDSiue",
        "outputId": "ded0deac-7a55-4a64-d380-fe4531101181"
      },
      "execution_count": 8,
      "outputs": [
        {
          "output_type": "stream",
          "name": "stdout",
          "text": [
            "{'age': 25, 'name': 'Elwing'}\n",
            "25\n",
            "{'age': 25, 'name': 'Elwing', 'height': 175}\n",
            "{'age': 25, 'name': 'Elwing', 'height': 180}\n"
          ]
        }
      ]
    }
  ]
}