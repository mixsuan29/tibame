{
  "nbformat": 4,
  "nbformat_minor": 0,
  "metadata": {
    "colab": {
      "provenance": [],
      "toc_visible": true,
      "authorship_tag": "ABX9TyNtb5XEDh8wZi3EICBGVtZj",
      "include_colab_link": true
    },
    "kernelspec": {
      "name": "python3",
      "display_name": "Python 3"
    },
    "language_info": {
      "name": "python"
    }
  },
  "cells": [
    {
      "cell_type": "markdown",
      "metadata": {
        "id": "view-in-github",
        "colab_type": "text"
      },
      "source": [
        "<a href=\"https://colab.research.google.com/github/mixsuan29/tibame/blob/main/10_01_file.ipynb\" target=\"_parent\"><img src=\"https://colab.research.google.com/assets/colab-badge.svg\" alt=\"Open In Colab\"/></a>"
      ]
    },
    {
      "cell_type": "code",
      "execution_count": 4,
      "metadata": {
        "id": "cW1QY3rNwf0P"
      },
      "outputs": [],
      "source": [
        "f = open(\"a.txt\", \"w\", encoding=\"utf-8\")\n",
        "# 寫入功能: wriet(f. \"abcd\")\n",
        "# 專屬功能: f.write(\"abcde\")\n",
        "# 逃避字元: \\ n t\n",
        "f.write(\"我是誰\\n\")\n",
        "f.write(\"皮卡丘!!\")\n",
        "# 關閉功能: close(r) 改成\n",
        "# 專屬功能: f.close()\n",
        "f.close()"
      ]
    },
    {
      "cell_type": "code",
      "source": [
        "f = open(\"a.txt\", \"r\", encoding=\"utf-8\")\n",
        "# 以前: s = read(f)\n",
        "s = f.read()\n",
        "print(s)\n",
        "f.close()"
      ],
      "metadata": {
        "colab": {
          "base_uri": "https://localhost:8080/"
        },
        "id": "LGdYSziy3FTj",
        "outputId": "5bc95898-21df-4374-ad68-31a9703225e3"
      },
      "execution_count": 5,
      "outputs": [
        {
          "output_type": "stream",
          "name": "stdout",
          "text": [
            "我是誰\n",
            "皮卡丘!!\n"
          ]
        }
      ]
    }
  ]
}