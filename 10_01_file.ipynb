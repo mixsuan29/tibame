{
  "nbformat": 4,
  "nbformat_minor": 0,
  "metadata": {
    "colab": {
      "provenance": [],
      "toc_visible": true,
      "authorship_tag": "ABX9TyPWBfQmJWehP9T5h5Y6rPoP",
      "include_colab_link": true
    },
    "kernelspec": {
      "name": "python3",
      "display_name": "Python 3"
    },
    "language_info": {
      "name": "python"
    }
  },
  "cells": [
    {
      "cell_type": "markdown",
      "metadata": {
        "id": "view-in-github",
        "colab_type": "text"
      },
      "source": [
        "<a href=\"https://colab.research.google.com/github/mixsuan29/tibame/blob/main/10_01_file.ipynb\" target=\"_parent\"><img src=\"https://colab.research.google.com/assets/colab-badge.svg\" alt=\"Open In Colab\"/></a>"
      ]
    },
    {
      "cell_type": "code",
      "execution_count": 4,
      "metadata": {
        "id": "cW1QY3rNwf0P"
      },
      "outputs": [],
      "source": [
        "f = open(\"a.txt\", \"w\", encoding=\"utf-8\")\n",
        "# 寫入功能: wriet(f. \"abcd\")\n",
        "# 專屬功能: f.write(\"abcde\")\n",
        "# 逃避字元: \\ n t\n",
        "f.write(\"我是誰\\n\")\n",
        "f.write(\"皮卡丘!!\")\n",
        "# 關閉功能: close(r) 改成\n",
        "# 專屬功能: f.close()\n",
        "f.close()"
      ]
    },
    {
      "cell_type": "code",
      "source": [
        "f = open(\"a.txt\", \"r\", encoding=\"utf-8\")\n",
        "# 以前: s = read(f)\n",
        "s = f.read()\n",
        "print(s)\n",
        "f.close()"
      ],
      "metadata": {
        "colab": {
          "base_uri": "https://localhost:8080/"
        },
        "id": "LGdYSziy3FTj",
        "outputId": "5bc95898-21df-4374-ad68-31a9703225e3"
      },
      "execution_count": 5,
      "outputs": [
        {
          "output_type": "stream",
          "name": "stdout",
          "text": [
            "我是誰\n",
            "皮卡丘!!\n"
          ]
        }
      ]
    },
    {
      "cell_type": "code",
      "source": [
        "scores = [30, 20, 40, 80, 100, 10, 50]\n",
        "print(min(scores),\n",
        "   max(scores),\n",
        "   sum(scores),\n",
        "   len(scores))\n",
        "print(20 in scores)\n",
        "# key->value 查詢 查東西[key]\n",
        "print(scores[0])\n",
        "# print(scores[len(scores)-1])\n",
        "# 反向key: -4 -3 -2 -1\n",
        "print(scores[-1])\n",
        "# 取段 查東西[開始:結束(不包含)]\n",
        "# 1:3 1 2 3(X)\n",
        "print(scores[1:3])\n",
        "print(scores[1:-1])\n",
        "print(scores[:3])\n",
        "print(scores[1:])\n",
        "# 取段並且跳號 查東西[開始:結束:幾個一跳]\n",
        "# scores[2:11:3] [2] [5] [8] [11](X)\n",
        "print(scores[::2])\n",
        "print(scores[1::2])\n",
        "# 反向跳號: !!!開始要比結束右邊\n",
        "# scores[11:2:-3] [11] [8] [5] [2](X)\n",
        "print(scores[::-1])\n",
        "# !!!! remember: [0] [-1] [::-1]"
      ],
      "metadata": {
        "colab": {
          "base_uri": "https://localhost:8080/"
        },
        "id": "pddYDdcD4fhG",
        "outputId": "cfc99d8f-040b-4fb1-c7bb-33ecad260b2d"
      },
      "execution_count": 18,
      "outputs": [
        {
          "output_type": "stream",
          "name": "stdout",
          "text": [
            "10 100 330 7\n",
            "True\n",
            "30\n",
            "50\n",
            "[20, 40]\n",
            "[20, 40, 80, 100, 10]\n",
            "[30, 20, 40]\n",
            "[20, 40, 80, 100, 10, 50]\n",
            "[30, 40, 100, 50]\n",
            "[20, 80, 10]\n",
            "[50, 10, 100, 80, 40, 20, 30]\n"
          ]
        }
      ]
    },
    {
      "cell_type": "code",
      "source": [
        "scores = [30, 80, 70, 20, 10]\n",
        "count = 0\n",
        "i = 0\n",
        "while i < len(scores):\n",
        "  # !!!! [i]: 不夠泛用 因為以後不是每種群集他的key都是0 1 2 3\n",
        "  if scores[i] >= 60:\n",
        "    count = count + scores[i]\n",
        "  i = i + 1\n",
        "print(count)"
      ],
      "metadata": {
        "colab": {
          "base_uri": "https://localhost:8080/"
        },
        "id": "1EiPp_nKBDRq",
        "outputId": "7b98674c-4e93-47e5-a635-a3a9e375cc90"
      },
      "execution_count": 21,
      "outputs": [
        {
          "output_type": "stream",
          "name": "stdout",
          "text": [
            "150\n"
          ]
        }
      ]
    },
    {
      "cell_type": "code",
      "source": [
        "#不用 while 改用 for...in\n",
        "scores = [30, 80, 70, 20, 10]\n",
        "count = 0\n",
        "for s in scores:\n",
        "  if s >= 60:\n",
        "    count = count + s\n",
        "print(count)"
      ],
      "metadata": {
        "colab": {
          "base_uri": "https://localhost:8080/"
        },
        "id": "0N6eyLyYDF5s",
        "outputId": "11209b5d-7d84-40c1-d17f-f0eb70cd5244"
      },
      "execution_count": 23,
      "outputs": [
        {
          "output_type": "stream",
          "name": "stdout",
          "text": [
            "150\n"
          ]
        }
      ]
    },
    {
      "cell_type": "code",
      "source": [
        "# range(5)    [0, 1, 2, 3, 4]\n",
        "# range(2,5)   [2, 3, 4]\n",
        "# range(2,11,3): [2, 5, 8]\n",
        "rangeScore = range(0,10)\n",
        "total = 0\n",
        "for r in rangeScore:\n",
        "  total = total + (r + 1)\n",
        "print(total)"
      ],
      "metadata": {
        "colab": {
          "base_uri": "https://localhost:8080/"
        },
        "id": "3jP6XAOcEPVh",
        "outputId": "b5c7502e-cca6-44d4-a913-8de44fa32197"
      },
      "execution_count": 31,
      "outputs": [
        {
          "output_type": "stream",
          "name": "stdout",
          "text": [
            "55\n"
          ]
        }
      ]
    },
    {
      "cell_type": "markdown",
      "source": [
        "##### 迴圈SQP(remember):\n",
        "```\n",
        "1. 走過一群集(list/str): for 單 in 群:\n",
        "2. 固定次數: for i in range(次):\n",
        "3. 其他條件: while True+break\n",
        "```"
      ],
      "metadata": {
        "id": "j4ZkfrBDHuTp"
      }
    },
    {
      "cell_type": "code",
      "source": [
        "# 世界平方日\n",
        "import math\n",
        "\n",
        "count = 0\n",
        "start = 4500\n",
        "\n",
        "while count < 5:\n",
        "  # 平方 start * start\n",
        "  start_pow = start ** 2\n",
        "  s = str(start_pow)\n",
        "\n",
        "  # 年月日\n",
        "  year = int(s[:4])\n",
        "  month = int(s[4:6])\n",
        "  day = int(s[6:])\n",
        "  # print(year, month, day)\n",
        "  # 月份條件: 1~12\n",
        "  if 1 <= month <= 12:\n",
        "    # 日期條件: 我們2月都預設沒有閏月\n",
        "    day_limit = [31, 28, 31, 30, 31, 30, 31, 31, 30, 31, 30, 31]\n",
        "    if 1 <= day <= day_limit[month-1]:\n",
        "      print(year, \"-\", month, \"-\", day, \"是! 開根號為:\", start)\n",
        "      count = count + 1\n",
        "  # 往下一個數字檢查\n",
        "  start = start + 1"
      ],
      "metadata": {
        "colab": {
          "base_uri": "https://localhost:8080/"
        },
        "id": "ZfkKQK1YIVPN",
        "outputId": "742ba747-8734-4f91-8fa8-b628311b431e"
      },
      "execution_count": 43,
      "outputs": [
        {
          "output_type": "stream",
          "name": "stdout",
          "text": [
            "2072 - 7 - 4 是! 開根號為: 4552\n",
            "2093 - 6 - 25 是! 開根號為: 4575\n",
            "2115 - 8 - 1 是! 開根號為: 4599\n",
            "2139 - 6 - 25 是! 開根號為: 4625\n",
            "2152 - 3 - 21 是! 開根號為: 4639\n"
          ]
        }
      ]
    }
  ]
}