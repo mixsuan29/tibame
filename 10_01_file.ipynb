{
  "nbformat": 4,
  "nbformat_minor": 0,
  "metadata": {
    "colab": {
      "provenance": [],
      "toc_visible": true,
      "authorship_tag": "ABX9TyNFypRE8+aTnowvSGr9zhlw",
      "include_colab_link": true
    },
    "kernelspec": {
      "name": "python3",
      "display_name": "Python 3"
    },
    "language_info": {
      "name": "python"
    }
  },
  "cells": [
    {
      "cell_type": "markdown",
      "metadata": {
        "id": "view-in-github",
        "colab_type": "text"
      },
      "source": [
        "<a href=\"https://colab.research.google.com/github/mixsuan29/tibame/blob/main/10_01_file.ipynb\" target=\"_parent\"><img src=\"https://colab.research.google.com/assets/colab-badge.svg\" alt=\"Open In Colab\"/></a>"
      ]
    },
    {
      "cell_type": "code",
      "execution_count": 4,
      "metadata": {
        "id": "cW1QY3rNwf0P"
      },
      "outputs": [],
      "source": [
        "f = open(\"a.txt\", \"w\", encoding=\"utf-8\")\n",
        "# 寫入功能: wriet(f. \"abcd\")\n",
        "# 專屬功能: f.write(\"abcde\")\n",
        "# 逃避字元: \\ n t\n",
        "f.write(\"我是誰\\n\")\n",
        "f.write(\"皮卡丘!!\")\n",
        "# 關閉功能: close(r) 改成\n",
        "# 專屬功能: f.close()\n",
        "f.close()"
      ]
    },
    {
      "cell_type": "code",
      "source": [
        "f = open(\"a.txt\", \"r\", encoding=\"utf-8\")\n",
        "# 以前: s = read(f)\n",
        "s = f.read()\n",
        "print(s)\n",
        "f.close()"
      ],
      "metadata": {
        "colab": {
          "base_uri": "https://localhost:8080/"
        },
        "id": "LGdYSziy3FTj",
        "outputId": "5bc95898-21df-4374-ad68-31a9703225e3"
      },
      "execution_count": 5,
      "outputs": [
        {
          "output_type": "stream",
          "name": "stdout",
          "text": [
            "我是誰\n",
            "皮卡丘!!\n"
          ]
        }
      ]
    },
    {
      "cell_type": "code",
      "source": [
        "scores = [30, 20, 40, 80, 100, 10, 50]\n",
        "print(min(scores),\n",
        "   max(scores),\n",
        "   sum(scores),\n",
        "   len(scores))\n",
        "print(20 in scores)\n",
        "# key->value 查詢 查東西[key]\n",
        "print(scores[0])\n",
        "# print(scores[len(scores)-1])\n",
        "# 反向key: -4 -3 -2 -1\n",
        "print(scores[-1])\n",
        "# 取段 查東西[開始:結束(不包含)]\n",
        "# 1:3 1 2 3(X)\n",
        "print(scores[1:3])\n",
        "print(scores[1:-1])\n",
        "print(scores[:3])\n",
        "print(scores[1:])\n",
        "# 取段並且跳號 查東西[開始:結束:幾個一跳]\n",
        "# scores[2:11:3] [2] [5] [8] [11](X)\n",
        "print(scores[::2])\n",
        "print(scores[1::2])\n",
        "# 反向跳號: !!!開始要比結束右邊\n",
        "# scores[11:2:-3] [11] [8] [5] [2](X)\n",
        "print(scores[::-1])\n",
        "# !!!! remember: [0] [-1] [::-1]"
      ],
      "metadata": {
        "colab": {
          "base_uri": "https://localhost:8080/"
        },
        "id": "pddYDdcD4fhG",
        "outputId": "cfc99d8f-040b-4fb1-c7bb-33ecad260b2d"
      },
      "execution_count": 18,
      "outputs": [
        {
          "output_type": "stream",
          "name": "stdout",
          "text": [
            "10 100 330 7\n",
            "True\n",
            "30\n",
            "50\n",
            "[20, 40]\n",
            "[20, 40, 80, 100, 10]\n",
            "[30, 20, 40]\n",
            "[20, 40, 80, 100, 10, 50]\n",
            "[30, 40, 100, 50]\n",
            "[20, 80, 10]\n",
            "[50, 10, 100, 80, 40, 20, 30]\n"
          ]
        }
      ]
    }
  ]
}