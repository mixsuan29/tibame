{
  "nbformat": 4,
  "nbformat_minor": 0,
  "metadata": {
    "colab": {
      "provenance": [],
      "authorship_tag": "ABX9TyOzufGxv4p/PtBUGY6vvWfZ",
      "include_colab_link": true
    },
    "kernelspec": {
      "name": "python3",
      "display_name": "Python 3"
    },
    "language_info": {
      "name": "python"
    }
  },
  "cells": [
    {
      "cell_type": "markdown",
      "metadata": {
        "id": "view-in-github",
        "colab_type": "text"
      },
      "source": [
        "<a href=\"https://colab.research.google.com/github/mixsuan29/tibame/blob/main/10_15_tabelog.ipynb\" target=\"_parent\"><img src=\"https://colab.research.google.com/assets/colab-badge.svg\" alt=\"Open In Colab\"/></a>"
      ]
    },
    {
      "cell_type": "markdown",
      "source": [
        "網頁三要素\n",
        "1. HTML(根本): 網頁內容\n",
        "2. CSS: 網頁排版\n",
        "3. JavaScript: 網頁動態\n",
        "\n",
        "CSS語法: 選到某些HTML元素並加上排版\n",
        "\n",
        "1. 選擇元素名字:\n",
        "```\n",
        "a{\n",
        "  background-color: red;\n",
        "}\n",
        "```\n",
        "\n",
        "1. 為了讓這些a有布一樣的地方，所以會加入兩個排版屬性\n",
        "class=\"分類1 分類2\"\n",
        "2. 選擇HTML特殊屬性class\n",
        "```\n",
        ".分類{\n",
        "}\n",
        "```\n",
        "\n",
        "3. 選擇屬性id，id=\"獨有身分證\"\n",
        "```\n",
        "#身分證{\n",
        "}\n",
        "```\n"
      ],
      "metadata": {
        "id": "L4mSLFf1s-dy"
      }
    },
    {
      "cell_type": "code",
      "execution_count": 8,
      "metadata": {
        "colab": {
          "base_uri": "https://localhost:8080/"
        },
        "id": "UfZzU6X_sHrD",
        "outputId": "a08e0830-447e-43a0-9db7-5bb09cb872e7"
      },
      "outputs": [
        {
          "output_type": "execute_result",
          "data": {
            "text/plain": [
              "<a class=\"list-rst__image-target\" data-img-event=\"large_item_image\" data-list-dest=\"item_top\" href=\"https://tabelog.com/tw/tokyo/A1302/A130204/13018162/\">\n",
              "<div class=\"list-rst__photo-item list-rst__photo-item--cover js-cassette-img js-switch-thumbnail-img\" data-img-id=\"80149833\" data-img-index=\"0\" data-original=\"https://tblg.k-img.com/restaurant/images/Rvw/80149/320x320_square_80149833.jpg\" style='background-image: url(\"https://tblg.k-img.com/restaurant/images/Rvw/80149/320x320_square_80149833.jpg\")'></div></a>"
            ]
          },
          "metadata": {},
          "execution_count": 8
        }
      ],
      "source": [
        "import urllib.request as req\n",
        "import bs4 as bs\n",
        "\n",
        "url = \"https://tabelog.com/tw/tokyo/rstLst/1/?SrtT=rt\"\n",
        "response = req.urlopen(url)\n",
        "# .read() -> 型態轉換 json.loads(xx)\n",
        "html = bs.BeautifulSoup(response)\n",
        "#print(html)\n",
        "html.find(\"a\", {\"class\":\"list-rst__image-target\"})"
      ]
    }
  ]
}