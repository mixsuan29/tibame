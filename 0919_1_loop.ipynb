{
  "nbformat": 4,
  "nbformat_minor": 0,
  "metadata": {
    "colab": {
      "provenance": [],
      "authorship_tag": "ABX9TyMIVQKmkLg7am1aJfShU/7X",
      "include_colab_link": true
    },
    "kernelspec": {
      "name": "python3",
      "display_name": "Python 3"
    },
    "language_info": {
      "name": "python"
    }
  },
  "cells": [
    {
      "cell_type": "markdown",
      "metadata": {
        "id": "view-in-github",
        "colab_type": "text"
      },
      "source": [
        "<a href=\"https://colab.research.google.com/github/mixsuan29/tibame/blob/main/0919_1_loop.ipynb\" target=\"_parent\"><img src=\"https://colab.research.google.com/assets/colab-badge.svg\" alt=\"Open In Colab\"/></a>"
      ]
    },
    {
      "cell_type": "code",
      "execution_count": null,
      "metadata": {
        "colab": {
          "base_uri": "https://localhost:8080/"
        },
        "id": "UYRrw97z3DwY",
        "outputId": "4dc5cf59-8bbc-4ab1-a2d8-68615f75c2f6"
      },
      "outputs": [
        {
          "output_type": "stream",
          "name": "stdout",
          "text": [
            "1 50 5 70\n",
            "2 49 8 62\n",
            "3 48 11 54\n",
            "4 47 14 46\n",
            "5 46 17 38\n",
            "6 45 20 30\n",
            "7 44 23 22\n",
            "8 43 26 14\n",
            "9 42 29 6\n",
            "10 41 32 -2\n"
          ]
        }
      ],
      "source": [
        "i = 0\n",
        "while i < 10:\n",
        "  # i 0...9\n",
        "  print(i+1,\n",
        "     50-i,\n",
        "     3*i+5,\n",
        "     70-8*i)\n",
        "  i = i + 1"
      ]
    },
    {
      "cell_type": "markdown",
      "source": [
        "##### 請印出正三角形\n",
        "```\n",
        "＊\n",
        "＊＊\n",
        "＊＊＊\n",
        "＊＊＊＊\n",
        "＊＊＊＊＊\n",
        "```\n"
      ],
      "metadata": {
        "id": "JcMajDUgA65S"
      }
    },
    {
      "cell_type": "code",
      "source": [
        "i = 0\n",
        "while i < 5:\n",
        "  print('*' * (i + 1))\n",
        "  i = i + 1"
      ],
      "metadata": {
        "colab": {
          "base_uri": "https://localhost:8080/"
        },
        "id": "ymA_dd_qAIbd",
        "outputId": "e5a02291-5d7b-4254-d15e-cb073e2d8631"
      },
      "execution_count": null,
      "outputs": [
        {
          "output_type": "stream",
          "name": "stdout",
          "text": [
            "*\n",
            "**\n",
            "***\n",
            "****\n",
            "*****\n"
          ]
        }
      ]
    },
    {
      "cell_type": "markdown",
      "source": [
        "###### 請印出靠右倒三角形\n",
        "```\n",
        "＊＊＊＊＊\n",
        "　＊＊＊＊\n",
        "　　＊＊＊\n",
        "　　　＊＊\n",
        "　　　　＊\n",
        "```"
      ],
      "metadata": {
        "id": "DVZo2pD8DSct"
      }
    },
    {
      "cell_type": "code",
      "source": [
        "i = 0\n",
        "h = 5\n",
        "left, right = ' ', '*'\n",
        "while i < h:\n",
        "  lCount = i\n",
        "  rCount = h -i\n",
        "  print(left * lCount + right * rCount)\n",
        "  i = i + 1"
      ],
      "metadata": {
        "colab": {
          "base_uri": "https://localhost:8080/"
        },
        "id": "ut9mrWHGBezf",
        "outputId": "46b52f05-25c5-4ef2-f29a-0d2d96b10e33"
      },
      "execution_count": null,
      "outputs": [
        {
          "output_type": "stream",
          "name": "stdout",
          "text": [
            "*****\n",
            " ****\n",
            "  ***\n",
            "   **\n",
            "    *\n"
          ]
        }
      ]
    },
    {
      "cell_type": "code",
      "source": [
        "i = 0\n",
        "h = 5\n",
        "left, right = '*', ' '\n",
        "while i < h:\n",
        "  lCount = h - i\n",
        "  rCount = i\n",
        "  print(left * lCount + right * rCount)\n",
        "  i = i + 1"
      ],
      "metadata": {
        "colab": {
          "base_uri": "https://localhost:8080/"
        },
        "id": "tn33pjAcE7o-",
        "outputId": "71d4f34b-1b19-4ada-bc8c-16afcb8c222a"
      },
      "execution_count": null,
      "outputs": [
        {
          "output_type": "stream",
          "name": "stdout",
          "text": [
            "*****\n",
            "**** \n",
            "***  \n",
            "**   \n",
            "*    \n"
          ]
        }
      ]
    },
    {
      "cell_type": "code",
      "source": [
        "i = 0\n",
        "h = 10\n",
        "w = (h * 2) - 1\n",
        "left, center, right = ' ', '*', ' '\n",
        "while i < h:\n",
        "  lCount = i\n",
        "  cCount = w - ( i * 2 )\n",
        "  rCount = i\n",
        "  print(left  * lCount +\n",
        "     center * cCount +\n",
        "     right * rCount)\n",
        "  i = i + 1"
      ],
      "metadata": {
        "colab": {
          "base_uri": "https://localhost:8080/"
        },
        "id": "dyaGhGg8IFl_",
        "outputId": "050ccefa-6001-44a1-ad59-3aebb11dc39c"
      },
      "execution_count": null,
      "outputs": [
        {
          "output_type": "stream",
          "name": "stdout",
          "text": [
            "*******************\n",
            " ***************** \n",
            "  ***************  \n",
            "   *************   \n",
            "    ***********    \n",
            "     *********     \n",
            "      *******      \n",
            "       *****       \n",
            "        ***        \n",
            "         *         \n"
          ]
        }
      ]
    },
    {
      "cell_type": "code",
      "source": [],
      "metadata": {
        "id": "5gqAI2R8Nitr"
      },
      "execution_count": null,
      "outputs": []
    }
  ]
}