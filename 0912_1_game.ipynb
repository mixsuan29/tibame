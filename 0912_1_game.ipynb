{
  "nbformat": 4,
  "nbformat_minor": 0,
  "metadata": {
    "colab": {
      "provenance": [],
      "authorship_tag": "ABX9TyPA75Icik53rpVRIXlw6v9n",
      "include_colab_link": true
    },
    "kernelspec": {
      "name": "python3",
      "display_name": "Python 3"
    },
    "language_info": {
      "name": "python"
    }
  },
  "cells": [
    {
      "cell_type": "markdown",
      "metadata": {
        "id": "view-in-github",
        "colab_type": "text"
      },
      "source": [
        "<a href=\"https://colab.research.google.com/github/mixsuan29/tibame/blob/main/0912_1_game.ipynb\" target=\"_parent\"><img src=\"https://colab.research.google.com/assets/colab-badge.svg\" alt=\"Open In Colab\"/></a>"
      ]
    },
    {
      "cell_type": "code",
      "execution_count": 8,
      "metadata": {
        "id": "MRXfebc46R_V",
        "colab": {
          "base_uri": "https://localhost:8080/"
        },
        "outputId": "71bbe7b5-bdaf-4cd8-e02a-3a23b4f77148"
      },
      "outputs": [
        {
          "output_type": "stream",
          "name": "stdout",
          "text": [
            "請輸入 0.剪刀 1.石頭 2.布：1\n",
            "我出的: 1\n",
            "電腦的: 2\n"
          ]
        }
      ],
      "source": [
        "import random\n",
        "\n",
        "my = input(\"請輸入 0.剪刀 1.石頭 2.布：\")\n",
        "my = int(my)\n",
        "com = random.randint(0,2)\n",
        "\n",
        "print(\"我出的:\", my)\n",
        "print(\"電腦的:\", com)"
      ]
    }
  ]
}