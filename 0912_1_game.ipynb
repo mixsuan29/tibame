{
  "nbformat": 4,
  "nbformat_minor": 0,
  "metadata": {
    "colab": {
      "provenance": [],
      "authorship_tag": "ABX9TyOuW8smu0eLWsH49EGbCAIm",
      "include_colab_link": true
    },
    "kernelspec": {
      "name": "python3",
      "display_name": "Python 3"
    },
    "language_info": {
      "name": "python"
    }
  },
  "cells": [
    {
      "cell_type": "markdown",
      "metadata": {
        "id": "view-in-github",
        "colab_type": "text"
      },
      "source": [
        "<a href=\"https://colab.research.google.com/github/mixsuan29/tibame/blob/main/0912_1_game.ipynb\" target=\"_parent\"><img src=\"https://colab.research.google.com/assets/colab-badge.svg\" alt=\"Open In Colab\"/></a>"
      ]
    },
    {
      "cell_type": "code",
      "execution_count": 20,
      "metadata": {
        "id": "MRXfebc46R_V",
        "colab": {
          "base_uri": "https://localhost:8080/"
        },
        "outputId": "8f6cc8db-f18f-41ff-a815-7f6ffd4d6e9f"
      },
      "outputs": [
        {
          "output_type": "stream",
          "name": "stdout",
          "text": [
            "請輸入 0.剪刀 1.石頭 2.布：0\n",
            "我出的: 剪刀\n",
            "電腦的: 石頭\n",
            "LOSE\n",
            "=========剪刀石頭布 END=========\n"
          ]
        }
      ],
      "source": [
        "import random\n",
        "\n",
        "my = input(\"請輸入 0.剪刀 1.石頭 2.布：\")\n",
        "my = int(my)\n",
        "\n",
        "com = random.randint(0, 2)\n",
        "trans = [\"剪刀\", \"石頭\", \"布\"]\n",
        "\n",
        "print(\"我出的:\", trans[my])\n",
        "print(\"電腦的:\", trans[com])\n",
        "\n",
        "if my == (com + 1) % 3 :\n",
        "  print(\"WIN\")\n",
        "elif com == (my + 1) % 3 :\n",
        "  print(\"LOSE\")\n",
        "else:\n",
        "  print(\"EVEN\")\n",
        "\n",
        "print(\"=========剪刀石頭布 END=========\")"
      ]
    },
    {
      "cell_type": "code",
      "source": [
        "# 查詢條件\n",
        "s = 'apple'\n",
        "print(s[2])"
      ],
      "metadata": {
        "colab": {
          "base_uri": "https://localhost:8080/"
        },
        "id": "GYqBDYpLEuWR",
        "outputId": "2df73ba7-29ec-43b5-89f6-8a4f868f6e3b"
      },
      "execution_count": 10,
      "outputs": [
        {
          "output_type": "stream",
          "name": "stdout",
          "text": [
            "p\n"
          ]
        }
      ]
    }
  ]
}