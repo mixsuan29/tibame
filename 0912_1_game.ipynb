{
  "nbformat": 4,
  "nbformat_minor": 0,
  "metadata": {
    "colab": {
      "provenance": [],
      "authorship_tag": "ABX9TyP+cHFmhBmnSxjIWB0XxlH2",
      "include_colab_link": true
    },
    "kernelspec": {
      "name": "python3",
      "display_name": "Python 3"
    },
    "language_info": {
      "name": "python"
    }
  },
  "cells": [
    {
      "cell_type": "markdown",
      "metadata": {
        "id": "view-in-github",
        "colab_type": "text"
      },
      "source": [
        "<a href=\"https://colab.research.google.com/github/mixsuan29/tibame/blob/main/0912_1_game.ipynb\" target=\"_parent\"><img src=\"https://colab.research.google.com/assets/colab-badge.svg\" alt=\"Open In Colab\"/></a>"
      ]
    },
    {
      "cell_type": "code",
      "execution_count": 23,
      "metadata": {
        "id": "MRXfebc46R_V",
        "colab": {
          "base_uri": "https://localhost:8080/"
        },
        "outputId": "738212a5-5d82-4dbb-e50d-195ea3543c2c"
      },
      "outputs": [
        {
          "output_type": "stream",
          "name": "stdout",
          "text": [
            "=========剪刀石頭布 START=========\n",
            "<class 'str'>\n",
            "<class 'int'>\n",
            "請輸入 0.剪刀 1.石頭 2.布：2\n",
            "我出的: 布\n",
            "電腦的: 布\n",
            "EVEN\n",
            "=========剪刀石頭布 END=========\n"
          ]
        }
      ],
      "source": [
        "import random\n",
        "\n",
        "print(\"=========剪刀石頭布 START=========\")\n",
        "\n",
        "my = input(\"請輸入 0.剪刀 1.石頭 2.布：\")\n",
        "my = int(my)\n",
        "\n",
        "com = random.randint(0, 2)\n",
        "trans = [\"剪刀\", \"石頭\", \"布\"]\n",
        "\n",
        "print(\"我出的:\", trans[my])\n",
        "print(\"電腦的:\", trans[com])\n",
        "\n",
        "if my == (com + 1) % 3 :\n",
        "  print(\"WIN\")\n",
        "elif com == (my + 1) % 3 :\n",
        "  print(\"LOSE\")\n",
        "else:\n",
        "  print(\"EVEN\")\n",
        "\n",
        "print(\"=========剪刀石頭布 END=========\")"
      ]
    },
    {
      "cell_type": "code",
      "source": [
        "# 查詢條件\n",
        "s = 'apple'\n",
        "print(s[2])"
      ],
      "metadata": {
        "colab": {
          "base_uri": "https://localhost:8080/"
        },
        "id": "GYqBDYpLEuWR",
        "outputId": "2df73ba7-29ec-43b5-89f6-8a4f868f6e3b"
      },
      "execution_count": 10,
      "outputs": [
        {
          "output_type": "stream",
          "name": "stdout",
          "text": [
            "p\n"
          ]
        }
      ]
    },
    {
      "cell_type": "code",
      "source": [
        "a = ''\n",
        "print(type(a))\n",
        "a = 0\n",
        "print(type(a))"
      ],
      "metadata": {
        "colab": {
          "base_uri": "https://localhost:8080/"
        },
        "id": "LlBgOIXTRkWW",
        "outputId": "da9cf0c1-412f-4bb7-eb03-569c94a78311"
      },
      "execution_count": 24,
      "outputs": [
        {
          "output_type": "stream",
          "name": "stdout",
          "text": [
            "<class 'str'>\n",
            "<class 'int'>\n"
          ]
        }
      ]
    },
    {
      "cell_type": "code",
      "source": [
        "import random\n",
        "\n",
        "print(\"=========剪刀石頭布 START=========\")\n",
        "\n",
        "my = input(\"請輸入 0-5：\")\n",
        "my = int(my)\n",
        "\n",
        "# my, com = 0, 3\n",
        "com = random.randint(0, 5)\n",
        "trans = [\"剪刀(0)\", \"石頭(0)\", \"布(0)\", \"剪刀(1)\", \"石頭(1)\", \"布(1)\"]\n",
        "\n",
        "print(\"我出的:\", trans[my])\n",
        "print(\"電腦的:\", trans[com])\n",
        "\n",
        "my_g = my\n",
        "com_g = com\n",
        "\n",
        "if my_g == com_g:\n",
        "  print(\"同組\")\n",
        "\n",
        "  my2, com2 = my % 3, com % 3\n",
        "\n",
        "  if my2 == (com2 + 1) % 3 :\n",
        "    print(\"WIN\")\n",
        "  elif com2 == (my2 + 1) % 3 :\n",
        "    print(\"LOSE\")\n",
        "  else:\n",
        "    print(\"EVEN\")\n",
        "\n",
        "else:\n",
        "  print(\"不同組EVEN\")\n",
        "\n",
        "\n",
        "print(\"=========剪刀石頭布 END=========\")"
      ],
      "metadata": {
        "colab": {
          "base_uri": "https://localhost:8080/"
        },
        "id": "bPzutTsQR_kM",
        "outputId": "9efb9f8a-a626-4f0b-ecec-845798b34c19"
      },
      "execution_count": 44,
      "outputs": [
        {
          "output_type": "stream",
          "name": "stdout",
          "text": [
            "=========剪刀石頭布 START=========\n",
            "請輸入 0-5：1\n",
            "我出的: 石頭(0)\n",
            "電腦的: 剪刀(1)\n",
            "不同組EVEN\n",
            "=========剪刀石頭布 END=========\n"
          ]
        }
      ]
    }
  ]
}