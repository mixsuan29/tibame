{
  "nbformat": 4,
  "nbformat_minor": 0,
  "metadata": {
    "colab": {
      "provenance": [],
      "authorship_tag": "ABX9TyP3xTCr7YSMyAqZWWR23Xv2",
      "include_colab_link": true
    },
    "kernelspec": {
      "name": "python3",
      "display_name": "Python 3"
    },
    "language_info": {
      "name": "python"
    }
  },
  "cells": [
    {
      "cell_type": "markdown",
      "metadata": {
        "id": "view-in-github",
        "colab_type": "text"
      },
      "source": [
        "<a href=\"https://colab.research.google.com/github/mixsuan29/tibame/blob/main/10_17_ptt.ipynb\" target=\"_parent\"><img src=\"https://colab.research.google.com/assets/colab-badge.svg\" alt=\"Open In Colab\"/></a>"
      ]
    },
    {
      "cell_type": "code",
      "execution_count": 4,
      "metadata": {
        "colab": {
          "base_uri": "https://localhost:8080/"
        },
        "id": "ksMUAFXReCu7",
        "outputId": "baade608-ce9f-4213-a88e-30a0f7746132"
      },
      "outputs": [
        {
          "output_type": "stream",
          "name": "stdout",
          "text": [
            "! https://cache.ptt.cc/c/https/i.imgur.com/e0SQaXPl.jpeg?e=1729314617&s=0CWhDz0FZ1au81RSXQoF0w\n",
            "! https://cache.ptt.cc/c/https/i.imgur.com/oyBRcCZl.jpeg?e=1729362761&s=PfzsSMMsJB7XwEsSTXu_Vw\n",
            "! https://cache.ptt.cc/c/https/i.imgur.com/musgUTml.jpeg?e=1729346381&s=puH2W3SpIVl6GIZB6y-QVg\n",
            "! https://cache.ptt.cc/c/https/i.imgur.com/8GGDzZrl.jpeg?e=1729314737&s=4FT4issgAQmuYQz9ZDf2rQ\n",
            "! https://cache.ptt.cc/c/https/i.imgur.com/a4z6fpEl.jpeg?e=1729342391&s=V76iUROh_S-U1GEi-7pY4A\n",
            "! https://cache.ptt.cc/c/https/i.imgur.com/QFuthHRl.jpeg?e=1729323365&s=3mjKLtmv0LtvVyAis6KEqg\n",
            "! https://cache.ptt.cc/c/https/i.imgur.com/60BdhPol.jpeg?e=1729322766&s=gB6y7JOuQUjJx2O1tPLi9Q\n"
          ]
        }
      ],
      "source": [
        "import urllib.request as req\n",
        "import bs4 as bs\n",
        "\n",
        "\n",
        "url = \"https://www.ptt.cc/bbs/Beauty/M.1728870210.A.8C7.html\"\n",
        "r = req.Request(url)\n",
        "r.add_header(\"user-agent\", \"Mozilla/5.0 (Windows NT 10.0; Win64; x64) AppleWebKit/537.36 (KHTML, like Gecko) Chrome/129.0.0.0 Safari/537.36\")\n",
        "# if need add cookie\n",
        "# r.add_header(\"Cookie\", \"over18=1\")\n",
        "response = req.urlopen(r)\n",
        "html = bs.BeautifulSoup(response)\n",
        "\n",
        "#print(html)\n",
        "imgs = html.find_all(\"img\")\n",
        "for i in range(len(imgs)):\n",
        "  img = imgs[i]\n",
        "  src = img[\"src\"]\n",
        "  subname = src.split(\"?\")[0].split(\".\")[-1]\n",
        "  fname = str(i) + \".\" + subname\n",
        "  # 打開圖片網址得到圖片\n",
        "  r = req.Request(src)\n",
        "  print(\"!\", src)\n",
        "  r.add_header(\"User-Agent\", \"Mozilla/5.0 (Windows NT 10.0; Win64; x64) AppleWebKit/537.36 (KHTML, like Gecko) Chrome/129.0.0.0 Safari/537.36 Edg/129.0.0.0\")\n",
        "  imgf = req.urlopen(r)\n",
        "  content = imgf.read()\n",
        "  # 開啟一個本地檔案把你得到的圖片寫入\n",
        "  f = open(fname, \"wb\")\n",
        "  f.write(content)\n",
        "  f.close()\n"
      ]
    },
    {
      "cell_type": "markdown",
      "source": [
        "HTTP代碼 2: OK 3: 轉址 4: 錯誤 404(Not Found): 網址打錯 或者 網站不存在 403(Forbidden): a. IP ban(數次以後) b. 你真的跟瀏覽器不依樣(headers)\n",
        "\n",
        "f = open(\"xx\", \"w/r\", encoding=\"utf-8\") f.write(\"xxx\") f.close()\n",
        "\n",
        "!!! 非純文字檔的存取\n",
        "\n",
        "\"w/r\" -> \"wb/rb\" 不用寫encoding\n",
        "\n",
        "!!! 有些事情是沒辦法用if-else去預防的\n",
        "\n",
        "事情預防: if-else\n",
        "事後解決: try-except\n",
        "try: 有機會發生錯誤的程式碼 except XXError: 針對這種錯誤的解決方案準備好\n",
        "\n",
        "程式碼沒發生錯誤: except不會跑到\n",
        "\n",
        "程式碼真的發生錯誤 a. 發生的是你except的錯誤: 就跑except b. 發生的不是你except的錯誤: 紅字"
      ],
      "metadata": {
        "id": "Yr_F_qXnoAT4"
      }
    },
    {
      "cell_type": "code",
      "source": [
        "import os\n",
        "import urllib.request as req\n",
        "import urllib.error as err\n",
        "import bs4 as bs\n",
        "\n",
        "# 開資料夾: 如果資料夾不存在舊開啟\n",
        "dirname = \"ptt\"\n",
        "if not os.path.exists(dirname):\n",
        "  os.makedirs(dirname)\n",
        "\n",
        "\n",
        "url = \"https://www.ptt.cc/bbs/Beauty/M.1726459216.A.3F7.html\"\n",
        "r = req.Request(url)\n",
        "r.add_header(\"User-Agent\", \"Mozilla/5.0 (Windows NT 10.0; Win64; x64) AppleWebKit/537.36 (KHTML, like Gecko) Chrome/129.0.0.0 Safari/537.36 Edg/129.0.0.0\")\n",
        "# if need add cookie\n",
        "# r.add_header(\"Cookie\", \"over18=1\")\n",
        "\n",
        "response = req.urlopen(r)\n",
        "html = bs.BeautifulSoup(response)\n",
        "\n",
        "imgs = html.find_all(\"img\")\n",
        "for i in range(len(imgs)):\n",
        "  img = imgs[i]\n",
        "  src = img[\"src\"]\n",
        "  subname = src.split(\"?\")[0].split(\".\")[-1]\n",
        "  fname = str(i) + \".\" + subname\n",
        "\n",
        "  try:\n",
        "    # 打開圖片網址得到圖片\n",
        "    r = req.Request(src)\n",
        "    print(\"!\", src)\n",
        "    r.add_header(\"User-Agent\", \"Mozilla/5.0 (Windows NT 10.0; Win64; x64) AppleWebKit/537.36 (KHTML, like Gecko) Chrome/129.0.0.0 Safari/537.36 Edg/129.0.0.0\")\n",
        "    imgf = req.urlopen(r)\n",
        "    content = imgf.read()\n",
        "    # 開啟一個本地檔案把你得到的圖片寫入\n",
        "    f = open(fname, \"wb\")\n",
        "    f.write(content)\n",
        "    f.close()\n",
        "\n",
        "  except err.HTTPError:\n",
        "    print(\"[Error]\", src)\n",
        ""
      ],
      "metadata": {
        "colab": {
          "base_uri": "https://localhost:8080/"
        },
        "id": "Z4q2wAiCkY_K",
        "outputId": "6813baec-2df7-447c-e35d-ae2cde0befb3"
      },
      "execution_count": 7,
      "outputs": [
        {
          "output_type": "stream",
          "name": "stdout",
          "text": [
            "! https://cache.ptt.cc/c/https/i.imgur.com/P4Riwynl.jpeg?e=1729347894&s=sDYBT4SjyycLUmXLT-RRJw\n",
            "! https://cache.ptt.cc/c/https/i.imgur.com/SesXi4bl.jpeg?e=1729306841&s=eMtYqxjp9ibG2qrq4YiVqw\n",
            "! https://cache.ptt.cc/c/https/i.imgur.com/p7KlI8l.jpeg?e=1729306278&s=Cp_f9pqt8x6EztIvChU29A\n",
            "[Error] https://cache.ptt.cc/c/https/i.imgur.com/p7KlI8l.jpeg?e=1729306278&s=Cp_f9pqt8x6EztIvChU29A\n",
            "! https://cache.ptt.cc/c/https/i.imgur.com/f39Y8rHl.jpeg?e=1729321446&s=3pFwz1javKK8r6iZMStQ0A\n",
            "! https://cache.ptt.cc/c/https/i.imgur.com/3wCAx8Gl.jpeg?e=1729329392&s=DAJnroy0YyBJts3QzF8KPA\n",
            "! https://cache.ptt.cc/c/https/i.imgur.com/m2EuziSl.jpeg?e=1729309742&s=bkujUXu7529rhRkftrcBSQ\n",
            "! https://cache.ptt.cc/c/https/i.imgur.com/viR8QKsl.jpeg?e=1729301549&s=AYm2dR6Wt0Ula0Wg_RMzJw\n",
            "! https://cache.ptt.cc/c/https/i.imgur.com/e4ho9vQl.jpeg?e=1729363175&s=JT3V9A28E1AwSCJnDyrtLw\n",
            "! https://cache.ptt.cc/c/https/i.imgur.com/3nEh4AEl.jpg?e=1729308254&s=vFA491rFb-BepIWvvSzPTQ\n",
            "! https://cache.ptt.cc/c/https/i.imgur.com/3DT5Iinl.jpeg?e=1729304817&s=mdoJkCG6e52rUdNqdZqOAw\n",
            "! https://cache.ptt.cc/c/https/i.imgur.com/euTO0fNl.jpeg?e=1729360602&s=VT2XzJbjZp0I2KPPyJUCNw\n",
            "! https://cache.ptt.cc/c/https/i.imgur.com/hW0C2O6l.jpeg?e=1729311732&s=kEpHYFiKOPK89scRS-kHuQ\n",
            "! https://cache.ptt.cc/c/https/i.imgur.com/g8frbyFl.jpeg?e=1729361245&s=UiTJ8GxrfnQ5Wo8r9DR9bw\n"
          ]
        }
      ]
    }
  ]
}