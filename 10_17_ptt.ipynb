{
  "nbformat": 4,
  "nbformat_minor": 0,
  "metadata": {
    "colab": {
      "provenance": [],
      "authorship_tag": "ABX9TyOEiKlotyUALsYxMgTu9o1b",
      "include_colab_link": true
    },
    "kernelspec": {
      "name": "python3",
      "display_name": "Python 3"
    },
    "language_info": {
      "name": "python"
    }
  },
  "cells": [
    {
      "cell_type": "markdown",
      "metadata": {
        "id": "view-in-github",
        "colab_type": "text"
      },
      "source": [
        "<a href=\"https://colab.research.google.com/github/mixsuan29/tibame/blob/main/10_17_ptt.ipynb\" target=\"_parent\"><img src=\"https://colab.research.google.com/assets/colab-badge.svg\" alt=\"Open In Colab\"/></a>"
      ]
    },
    {
      "cell_type": "code",
      "execution_count": 4,
      "metadata": {
        "colab": {
          "base_uri": "https://localhost:8080/"
        },
        "id": "ksMUAFXReCu7",
        "outputId": "baade608-ce9f-4213-a88e-30a0f7746132"
      },
      "outputs": [
        {
          "output_type": "stream",
          "name": "stdout",
          "text": [
            "! https://cache.ptt.cc/c/https/i.imgur.com/e0SQaXPl.jpeg?e=1729314617&s=0CWhDz0FZ1au81RSXQoF0w\n",
            "! https://cache.ptt.cc/c/https/i.imgur.com/oyBRcCZl.jpeg?e=1729362761&s=PfzsSMMsJB7XwEsSTXu_Vw\n",
            "! https://cache.ptt.cc/c/https/i.imgur.com/musgUTml.jpeg?e=1729346381&s=puH2W3SpIVl6GIZB6y-QVg\n",
            "! https://cache.ptt.cc/c/https/i.imgur.com/8GGDzZrl.jpeg?e=1729314737&s=4FT4issgAQmuYQz9ZDf2rQ\n",
            "! https://cache.ptt.cc/c/https/i.imgur.com/a4z6fpEl.jpeg?e=1729342391&s=V76iUROh_S-U1GEi-7pY4A\n",
            "! https://cache.ptt.cc/c/https/i.imgur.com/QFuthHRl.jpeg?e=1729323365&s=3mjKLtmv0LtvVyAis6KEqg\n",
            "! https://cache.ptt.cc/c/https/i.imgur.com/60BdhPol.jpeg?e=1729322766&s=gB6y7JOuQUjJx2O1tPLi9Q\n"
          ]
        }
      ],
      "source": [
        "import urllib.request as req\n",
        "import bs4 as bs\n",
        "\n",
        "\n",
        "url = \"https://www.ptt.cc/bbs/Beauty/M.1728870210.A.8C7.html\"\n",
        "r = req.Request(url)\n",
        "r.add_header(\"user-agent\", \"Mozilla/5.0 (Windows NT 10.0; Win64; x64) AppleWebKit/537.36 (KHTML, like Gecko) Chrome/129.0.0.0 Safari/537.36\")\n",
        "# if need add cookie\n",
        "# r.add_header(\"Cookie\", \"over18=1\")\n",
        "response = req.urlopen(r)\n",
        "html = bs.BeautifulSoup(response)\n",
        "\n",
        "#print(html)\n",
        "imgs = html.find_all(\"img\")\n",
        "for i in range(len(imgs)):\n",
        "  img = imgs[i]\n",
        "  src = img[\"src\"]\n",
        "  subname = src.split(\"?\")[0].split(\".\")[-1]\n",
        "  fname = str(i) + \".\" + subname\n",
        "  # 打開圖片網址得到圖片\n",
        "  r = req.Request(src)\n",
        "  print(\"!\", src)\n",
        "  r.add_header(\"User-Agent\", \"Mozilla/5.0 (Windows NT 10.0; Win64; x64) AppleWebKit/537.36 (KHTML, like Gecko) Chrome/129.0.0.0 Safari/537.36 Edg/129.0.0.0\")\n",
        "  imgf = req.urlopen(r)\n",
        "  content = imgf.read()\n",
        "  # 開啟一個本地檔案把你得到的圖片寫入\n",
        "  f = open(fname, \"wb\")\n",
        "  f.write(content)\n",
        "  f.close()\n"
      ]
    }
  ]
}