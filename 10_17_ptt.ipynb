{
  "nbformat": 4,
  "nbformat_minor": 0,
  "metadata": {
    "colab": {
      "provenance": [],
      "authorship_tag": "ABX9TyO32wZGhx/RifG+g+Mp3RMp",
      "include_colab_link": true
    },
    "kernelspec": {
      "name": "python3",
      "display_name": "Python 3"
    },
    "language_info": {
      "name": "python"
    }
  },
  "cells": [
    {
      "cell_type": "markdown",
      "metadata": {
        "id": "view-in-github",
        "colab_type": "text"
      },
      "source": [
        "<a href=\"https://colab.research.google.com/github/mixsuan29/tibame/blob/main/10_17_ptt.ipynb\" target=\"_parent\"><img src=\"https://colab.research.google.com/assets/colab-badge.svg\" alt=\"Open In Colab\"/></a>"
      ]
    },
    {
      "cell_type": "code",
      "execution_count": 4,
      "metadata": {
        "colab": {
          "base_uri": "https://localhost:8080/"
        },
        "id": "ksMUAFXReCu7",
        "outputId": "baade608-ce9f-4213-a88e-30a0f7746132"
      },
      "outputs": [
        {
          "output_type": "stream",
          "name": "stdout",
          "text": [
            "! https://cache.ptt.cc/c/https/i.imgur.com/e0SQaXPl.jpeg?e=1729314617&s=0CWhDz0FZ1au81RSXQoF0w\n",
            "! https://cache.ptt.cc/c/https/i.imgur.com/oyBRcCZl.jpeg?e=1729362761&s=PfzsSMMsJB7XwEsSTXu_Vw\n",
            "! https://cache.ptt.cc/c/https/i.imgur.com/musgUTml.jpeg?e=1729346381&s=puH2W3SpIVl6GIZB6y-QVg\n",
            "! https://cache.ptt.cc/c/https/i.imgur.com/8GGDzZrl.jpeg?e=1729314737&s=4FT4issgAQmuYQz9ZDf2rQ\n",
            "! https://cache.ptt.cc/c/https/i.imgur.com/a4z6fpEl.jpeg?e=1729342391&s=V76iUROh_S-U1GEi-7pY4A\n",
            "! https://cache.ptt.cc/c/https/i.imgur.com/QFuthHRl.jpeg?e=1729323365&s=3mjKLtmv0LtvVyAis6KEqg\n",
            "! https://cache.ptt.cc/c/https/i.imgur.com/60BdhPol.jpeg?e=1729322766&s=gB6y7JOuQUjJx2O1tPLi9Q\n"
          ]
        }
      ],
      "source": [
        "import urllib.request as req\n",
        "import bs4 as bs\n",
        "\n",
        "\n",
        "url = \"https://www.ptt.cc/bbs/Beauty/M.1728870210.A.8C7.html\"\n",
        "r = req.Request(url)\n",
        "r.add_header(\"user-agent\", \"Mozilla/5.0 (Windows NT 10.0; Win64; x64) AppleWebKit/537.36 (KHTML, like Gecko) Chrome/129.0.0.0 Safari/537.36\")\n",
        "# if need add cookie\n",
        "# r.add_header(\"Cookie\", \"over18=1\")\n",
        "response = req.urlopen(r)\n",
        "html = bs.BeautifulSoup(response)\n",
        "\n",
        "#print(html)\n",
        "imgs = html.find_all(\"img\")\n",
        "for i in range(len(imgs)):\n",
        "  img = imgs[i]\n",
        "  src = img[\"src\"]\n",
        "  subname = src.split(\"?\")[0].split(\".\")[-1]\n",
        "  fname = str(i) + \".\" + subname\n",
        "  # 打開圖片網址得到圖片\n",
        "  r = req.Request(src)\n",
        "  print(\"!\", src)\n",
        "  r.add_header(\"User-Agent\", \"Mozilla/5.0 (Windows NT 10.0; Win64; x64) AppleWebKit/537.36 (KHTML, like Gecko) Chrome/129.0.0.0 Safari/537.36 Edg/129.0.0.0\")\n",
        "  imgf = req.urlopen(r)\n",
        "  content = imgf.read()\n",
        "  # 開啟一個本地檔案把你得到的圖片寫入\n",
        "  f = open(fname, \"wb\")\n",
        "  f.write(content)\n",
        "  f.close()\n"
      ]
    },
    {
      "cell_type": "code",
      "source": [
        "import urllib.request as req\n",
        "import urllib.error as err\n",
        "import bs4 as bs\n",
        "\n",
        "url = \"https://www.ptt.cc/bbs/Beauty/M.1726459216.A.3F7.html\"\n",
        "r = req.Request(url)\n",
        "r.add_header(\"User-Agent\", \"Mozilla/5.0 (Windows NT 10.0; Win64; x64) AppleWebKit/537.36 (KHTML, like Gecko) Chrome/129.0.0.0 Safari/537.36 Edg/129.0.0.0\")\n",
        "# if need add cookie\n",
        "# r.add_header(\"Cookie\", \"over18=1\")\n",
        "\n",
        "response = req.urlopen(r)\n",
        "html = bs.BeautifulSoup(response)\n",
        "\n",
        "imgs = html.find_all(\"img\")\n",
        "for i in range(len(imgs)):\n",
        "  img = imgs[i]\n",
        "  src = img[\"src\"]\n",
        "  subname = src.split(\"?\")[0].split(\".\")[-1]\n",
        "  fname = str(i) + \".\" + subname\n",
        "\n",
        "  try:\n",
        "    # 打開圖片網址得到圖片\n",
        "    r = req.Request(src)\n",
        "    print(\"!\", src)\n",
        "    r.add_header(\"User-Agent\", \"Mozilla/5.0 (Windows NT 10.0; Win64; x64) AppleWebKit/537.36 (KHTML, like Gecko) Chrome/129.0.0.0 Safari/537.36 Edg/129.0.0.0\")\n",
        "    imgf = req.urlopen(r)\n",
        "    content = imgf.read()\n",
        "    # 開啟一個本地檔案把你得到的圖片寫入\n",
        "    f = open(fname, \"wb\")\n",
        "    f.write(content)\n",
        "    f.close()\n",
        "\n",
        "  except err.HTTPError:\n",
        "    print(\"[Error]\", src)\n",
        ""
      ],
      "metadata": {
        "colab": {
          "base_uri": "https://localhost:8080/"
        },
        "id": "Z4q2wAiCkY_K",
        "outputId": "6982b540-8452-4dd9-8a70-6b0db964368b"
      },
      "execution_count": 6,
      "outputs": [
        {
          "output_type": "stream",
          "name": "stdout",
          "text": [
            "! https://cache.ptt.cc/c/https/i.imgur.com/P4Riwynl.jpeg?e=1729347894&s=sDYBT4SjyycLUmXLT-RRJw\n",
            "! https://cache.ptt.cc/c/https/i.imgur.com/SesXi4bl.jpeg?e=1729306841&s=eMtYqxjp9ibG2qrq4YiVqw\n",
            "! https://cache.ptt.cc/c/https/i.imgur.com/p7KlI8l.jpeg?e=1729306278&s=Cp_f9pqt8x6EztIvChU29A\n",
            "[Error] https://cache.ptt.cc/c/https/i.imgur.com/p7KlI8l.jpeg?e=1729306278&s=Cp_f9pqt8x6EztIvChU29A\n",
            "! https://cache.ptt.cc/c/https/i.imgur.com/f39Y8rHl.jpeg?e=1729321446&s=3pFwz1javKK8r6iZMStQ0A\n",
            "! https://cache.ptt.cc/c/https/i.imgur.com/3wCAx8Gl.jpeg?e=1729329392&s=DAJnroy0YyBJts3QzF8KPA\n",
            "! https://cache.ptt.cc/c/https/i.imgur.com/m2EuziSl.jpeg?e=1729309742&s=bkujUXu7529rhRkftrcBSQ\n",
            "! https://cache.ptt.cc/c/https/i.imgur.com/viR8QKsl.jpeg?e=1729301549&s=AYm2dR6Wt0Ula0Wg_RMzJw\n",
            "! https://cache.ptt.cc/c/https/i.imgur.com/e4ho9vQl.jpeg?e=1729363175&s=JT3V9A28E1AwSCJnDyrtLw\n",
            "! https://cache.ptt.cc/c/https/i.imgur.com/3nEh4AEl.jpg?e=1729308254&s=vFA491rFb-BepIWvvSzPTQ\n",
            "! https://cache.ptt.cc/c/https/i.imgur.com/3DT5Iinl.jpeg?e=1729304817&s=mdoJkCG6e52rUdNqdZqOAw\n",
            "! https://cache.ptt.cc/c/https/i.imgur.com/euTO0fNl.jpeg?e=1729360602&s=VT2XzJbjZp0I2KPPyJUCNw\n",
            "! https://cache.ptt.cc/c/https/i.imgur.com/hW0C2O6l.jpeg?e=1729311732&s=kEpHYFiKOPK89scRS-kHuQ\n",
            "! https://cache.ptt.cc/c/https/i.imgur.com/g8frbyFl.jpeg?e=1729361245&s=UiTJ8GxrfnQ5Wo8r9DR9bw\n"
          ]
        }
      ]
    }
  ]
}