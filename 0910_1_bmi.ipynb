{
  "nbformat": 4,
  "nbformat_minor": 0,
  "metadata": {
    "colab": {
      "provenance": [],
      "authorship_tag": "ABX9TyNRhMbs5bbDfYSS5dlo60pE",
      "include_colab_link": true
    },
    "kernelspec": {
      "name": "python3",
      "display_name": "Python 3"
    },
    "language_info": {
      "name": "python"
    }
  },
  "cells": [
    {
      "cell_type": "markdown",
      "metadata": {
        "id": "view-in-github",
        "colab_type": "text"
      },
      "source": [
        "<a href=\"https://colab.research.google.com/github/mixsuan29/tibame/blob/main/0910_1_bmi.ipynb\" target=\"_parent\"><img src=\"https://colab.research.google.com/assets/colab-badge.svg\" alt=\"Open In Colab\"/></a>"
      ]
    },
    {
      "cell_type": "code",
      "source": [
        "# bmi: weight(kg) / height(m) ^ 2\n",
        "weight = 106\n",
        "height = 191\n",
        "bmi = weight / (height / 100) ** 2\n",
        "\n",
        "print(\"weight: \" + str(weight) + \" kg\")\n",
        "print(\"height: \" + str(height) + \" cm\")\n",
        "print(\"BMI: \" + str(bmi))"
      ],
      "metadata": {
        "colab": {
          "base_uri": "https://localhost:8080/"
        },
        "id": "P22SgUNv0Wu2",
        "outputId": "5922d91b-850c-4041-e6ee-7615bc44f78c"
      },
      "execution_count": 18,
      "outputs": [
        {
          "output_type": "stream",
          "name": "stdout",
          "text": [
            "weight: 106 kg\n",
            "height: 191 cm\n",
            "BMI: 29.05622104657219\n"
          ]
        }
      ]
    }
  ]
}