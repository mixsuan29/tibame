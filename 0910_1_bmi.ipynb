{
  "nbformat": 4,
  "nbformat_minor": 0,
  "metadata": {
    "colab": {
      "provenance": [],
      "authorship_tag": "ABX9TyPddOfq2or1f6GAXV0QDPQ2",
      "include_colab_link": true
    },
    "kernelspec": {
      "name": "python3",
      "display_name": "Python 3"
    },
    "language_info": {
      "name": "python"
    }
  },
  "cells": [
    {
      "cell_type": "markdown",
      "metadata": {
        "id": "view-in-github",
        "colab_type": "text"
      },
      "source": [
        "<a href=\"https://colab.research.google.com/github/mixsuan29/tibame/blob/main/0910_1_bmi.ipynb\" target=\"_parent\"><img src=\"https://colab.research.google.com/assets/colab-badge.svg\" alt=\"Open In Colab\"/></a>"
      ]
    },
    {
      "cell_type": "code",
      "source": [
        "# bmi: weight(kg) / height(m) ^ 2\n",
        "weight = 106\n",
        "height = 191\n",
        "print(\"weight:\", weight)\n",
        "print(\"height:\", height)\n",
        "print(\"BMI:\", weight / (height / 100) ** 2)"
      ],
      "metadata": {
        "colab": {
          "base_uri": "https://localhost:8080/"
        },
        "id": "P22SgUNv0Wu2",
        "outputId": "8ff9478d-89f1-4415-df77-3df11fac69e9"
      },
      "execution_count": 6,
      "outputs": [
        {
          "output_type": "stream",
          "name": "stdout",
          "text": [
            "weight: 106\n",
            "height: 191\n",
            "BMI: 29.05622104657219\n"
          ]
        }
      ]
    }
  ]
}