{
  "nbformat": 4,
  "nbformat_minor": 0,
  "metadata": {
    "colab": {
      "provenance": [],
      "authorship_tag": "ABX9TyMY/KKEZXyi0UrfQcgWKbAK",
      "include_colab_link": true
    },
    "kernelspec": {
      "name": "python3",
      "display_name": "Python 3"
    },
    "language_info": {
      "name": "python"
    }
  },
  "cells": [
    {
      "cell_type": "markdown",
      "metadata": {
        "id": "view-in-github",
        "colab_type": "text"
      },
      "source": [
        "<a href=\"https://colab.research.google.com/github/mixsuan29/tibame/blob/main/0910_1_bmi.ipynb\" target=\"_parent\"><img src=\"https://colab.research.google.com/assets/colab-badge.svg\" alt=\"Open In Colab\"/></a>"
      ]
    },
    {
      "cell_type": "code",
      "source": [
        "# bmi: weight(kg) / height(m) ^ 2\n",
        "weight = input(\"請輸入體重 \")\n",
        "weight = float(weight)\n",
        "height = input(\"請輸入身高 \")\n",
        "height = float(height)\n",
        "bmi = weight / (height / 100) ** 2\n",
        "\n",
        "print(\"weight: \" + str(weight) + \" kg\")\n",
        "print(\"height: \" + str(height) + \" cm\")\n",
        "print(\"BMI: \" + str(bmi) + \"\\n\")\n",
        "\n",
        "if (bmi <= 18):\n",
        "  print(\"體重過輕\")\n",
        "elif (bmi > 18 and bmi <= 24):\n",
        "  print(\"體重正常\")\n",
        "elif (bmi > 24):\n",
        "  print(\"體重過重\")"
      ],
      "metadata": {
        "colab": {
          "base_uri": "https://localhost:8080/"
        },
        "id": "P22SgUNv0Wu2",
        "outputId": "e19ced79-b113-4bbc-c166-6a105e29bb31"
      },
      "execution_count": 35,
      "outputs": [
        {
          "output_type": "stream",
          "name": "stdout",
          "text": [
            "請輸入體重 106\n",
            "請輸入身高 191\n",
            "weight: 106.0 kg\n",
            "height: 191.0 cm\n",
            "BMI: 29.05622104657219\n",
            "\n",
            "體重過重\n"
          ]
        }
      ]
    },
    {
      "cell_type": "code",
      "source": [
        "a = 4.6\n",
        "int(a)\n",
        "print(\"a:\", a)\n",
        "\n",
        "b = 4.6\n",
        "b = int(b)\n",
        "print(\"b:\", b)"
      ],
      "metadata": {
        "colab": {
          "base_uri": "https://localhost:8080/"
        },
        "id": "CU5rda20KGbM",
        "outputId": "5b78332c-6146-48bb-994d-29c41ea8f1ac"
      },
      "execution_count": 27,
      "outputs": [
        {
          "output_type": "stream",
          "name": "stdout",
          "text": [
            "a: 4.6\n",
            "b: 4\n"
          ]
        }
      ]
    }
  ]
}